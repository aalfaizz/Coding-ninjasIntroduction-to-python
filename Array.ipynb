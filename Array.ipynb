{
 "cells": [
  {
   "cell_type": "code",
   "execution_count": 9,
   "id": "c3add5c9",
   "metadata": {},
   "outputs": [
    {
     "name": "stdout",
     "output_type": "stream",
     "text": [
      "3\n",
      "9 8 9\n"
     ]
    }
   ],
   "source": [
    "n = int(input())\n",
    "li = [int(i) for i in input().split()]"
   ]
  },
  {
   "cell_type": "code",
   "execution_count": 10,
   "id": "9641a3ec",
   "metadata": {},
   "outputs": [
    {
     "name": "stdout",
     "output_type": "stream",
     "text": [
      "26\n"
     ]
    }
   ],
   "source": [
    "sum = 0\n",
    "for ele in range(len(li)):\n",
    "    sum = sum + li[ele]\n",
    "print(sum)"
   ]
  },
  {
   "cell_type": "code",
   "execution_count": 9,
   "id": "cb75bc99",
   "metadata": {},
   "outputs": [
    {
     "name": "stdout",
     "output_type": "stream",
     "text": [
      "5\n",
      "1 2 3 4 5\n",
      "[2, 1, 4, 3, 5]\n"
     ]
    }
   ],
   "source": [
    "def swapAlternate(li, n):\n",
    "    \n",
    "    for i in range(0, len(li) - 1, 2):\n",
    "        li[i], li[i + 1] = li[i + 1], li[i]\n",
    "        \n",
    "n = int(input())\n",
    "li = [int(x) for x in input().split()]\n",
    "swapAlternate(li, n)\n",
    "print(li)"
   ]
  },
  {
   "cell_type": "code",
   "execution_count": 22,
   "id": "8ad48ee9",
   "metadata": {},
   "outputs": [
    {
     "name": "stdout",
     "output_type": "stream",
     "text": [
      "6\n",
      "1\n",
      "2\n",
      "3\n",
      "4\n",
      "5\n",
      "6\n",
      "[2, 1, 4, 3, 6, 5]\n"
     ]
    }
   ],
   "source": [
    "def swapAlternate2(arr, n):\n",
    "    for i in range(0, len(arr)- 1, 2):\n",
    "        arr[i], arr[i + 1] = arr[i + 1], arr[i]\n",
    "        \n",
    "n = int(input())\n",
    "arr = []\n",
    "for i in range(n):\n",
    "    curr = int(input())\n",
    "    arr.append(curr)\n",
    "    \n",
    "swapAlternate2(arr, n)\n",
    "print(arr)"
   ]
  },
  {
   "cell_type": "code",
   "execution_count": 4,
   "id": "b0a9b47e",
   "metadata": {},
   "outputs": [
    {
     "name": "stdout",
     "output_type": "stream",
     "text": [
      "5\n",
      "2 4 7 2 7\n",
      "Unique Element 4\n"
     ]
    }
   ],
   "source": [
    "n = int(input())\n",
    "li = [int(x) for x in input().split()]\n",
    "is_unique = True\n",
    "for i in range(0, len(li), 1):\n",
    "    is_unique = True\n",
    "    for j in range(0, len(li), 1):\n",
    "        if i != j and li[i] == li[j]:\n",
    "            is_unique = False\n",
    "            break\n",
    "    if is_unique:\n",
    "        break\n",
    "if is_unique:\n",
    "    print(\"Unique Element\", li[i])\n",
    "else:\n",
    "    print(\"No Unique Element\")\n",
    "    "
   ]
  },
  {
   "cell_type": "markdown",
   "id": "c1270f98",
   "metadata": {},
   "source": [
    "Now with the help of function"
   ]
  },
  {
   "cell_type": "code",
   "execution_count": 6,
   "id": "802586a2",
   "metadata": {},
   "outputs": [
    {
     "name": "stdout",
     "output_type": "stream",
     "text": [
      "5\n",
      "2 4 7 2 7\n",
      "4\n"
     ]
    }
   ],
   "source": [
    "def uniqueElement(arr, n):\n",
    "    isUnique = True\n",
    "    for i in range(len(arr)):\n",
    "        isUnique = True\n",
    "        for j in range(len(arr)):\n",
    "            if i != j and arr[i] == arr[j]:\n",
    "                isUnique = False\n",
    "        if isUnique:\n",
    "            return arr[i]\n",
    "n = int(input())\n",
    "arr = [int(x)for x in input().split()]\n",
    "unique = uniqueElement(arr, n)\n",
    "print(unique)"
   ]
  },
  {
   "cell_type": "code",
   "execution_count": 10,
   "id": "baad7663",
   "metadata": {},
   "outputs": [
    {
     "name": "stdout",
     "output_type": "stream",
     "text": [
      "5\n",
      "0 2 1 3 1\n",
      "This element is duplictae 1\n"
     ]
    }
   ],
   "source": [
    "n = int(input())\n",
    "arr = [int(x)for x in input().split()]\n",
    "isDuplicate = False\n",
    "for i in range(len(li)):\n",
    "    isDuplicate = False\n",
    "    for j in range(len(li)):\n",
    "        if i != j and arr[i] == arr[j]:\n",
    "            isDuplicate = True\n",
    "    if isDuplicate:\n",
    "        break\n",
    "if isDuplicate:\n",
    "    print(\"This element is duplicate\", arr[i])\n",
    "else:\n",
    "    print(\"Not found\")\n"
   ]
  },
  {
   "cell_type": "code",
   "execution_count": null,
   "id": "51a4e281-c588-4d7e-8ae9-971532e6f3c3",
   "metadata": {},
   "outputs": [],
   "source": []
  },
  {
   "cell_type": "markdown",
   "id": "b400e4fd",
   "metadata": {},
   "source": [
    "# Intersection of Two Arrays II"
   ]
  },
  {
   "cell_type": "markdown",
   "id": "2c19dd63",
   "metadata": {},
   "source": [
    "Problem statement\n",
    "You have been given two integer arrays/list(ARR1 and ARR2) of size N and M, respectively. You need to print their intersection; An intersection for this problem can be defined when both the arrays/lists contain a particular value or to put it in other words, when there is a common value that exists in both the arrays/lists."
   ]
  },
  {
   "cell_type": "raw",
   "id": "5f8b11a3",
   "metadata": {},
   "source": [
    " Read the number of arrays\n",
    "n = int(input(\"Enter the number of arrays: \"))\n",
    "\n",
    "# List to store all arrays\n",
    "arrays = []\n",
    "\n",
    "# Read each array and store it in the list\n",
    "for i in range(n):\n",
    "    arr = [int(x) for x in input(f\"Enter the elements of array {i + 1}: \").split()]\n",
    "    arrays.append(arr)\n",
    "\n",
    "# Print each array separately\n",
    "for i, arr in enumerate(arrays, 1):\n",
    "    print(f\"Array {i}: {arr}\")\n"
   ]
  },
  {
   "cell_type": "code",
   "execution_count": 31,
   "id": "fdf30a87",
   "metadata": {},
   "outputs": [
    {
     "name": "stdout",
     "output_type": "stream",
     "text": [
      "2 6 1 2\n",
      "1 2 3 4 2\n",
      "[2, 1, 2]\n"
     ]
    }
   ],
   "source": [
    "arr1 = [int(x) for x in input().split()]\n",
    "arr2 = [int(x) for x in input().split()]\n",
    "arr3 = []\n",
    "\n",
    "is_intersection = False\n",
    "\n",
    "for i in range(len(arr1)):\n",
    "    is_intersection = False\n",
    "    for j in range(len(arr2)):\n",
    "        if arr1[i] == arr2[j]:\n",
    "            arr3.append(arr1[i])\n",
    "            is_intersection = True\n",
    "            break\n",
    "            \n",
    "if is_intersection:\n",
    "    print(arr3)\n",
    "else:\n",
    "    print(\"No intersection\")"
   ]
  },
  {
   "cell_type": "code",
   "execution_count": null,
   "id": "3f7186e7-1ec4-4c07-adcd-159d21a43e16",
   "metadata": {},
   "outputs": [],
   "source": [
    "arr1 = [int(x) for x in input().split()]\n",
    "arr2 = [int(x) for x in input().split()]\n",
    "arr3 = []\n",
    "\n",
    "found_intersection = False  # Correct flag to check for any intersection\n",
    "\n",
    "for i in range(len(arr1)):\n",
    "    for j in range(len(arr2)):\n",
    "        if arr1[i] == arr2[j]:\n",
    "            arr3.append(arr1[i])\n",
    "            found_intersection = True  # Set flag to True when an intersection is found\n",
    "            break\n",
    "\n",
    "if found_intersection:\n",
    "    print(arr3)\n",
    "else:\n",
    "    print(\"No intersection\")\n"
   ]
  },
  {
   "cell_type": "code",
   "execution_count": 19,
   "id": "ece436a1-1fc8-475a-80fd-33262f329e36",
   "metadata": {},
   "outputs": [
    {
     "name": "stdin",
     "output_type": "stream",
     "text": [
      " 2 6 8 5 4 3\n",
      " 2 3 4 7\n"
     ]
    },
    {
     "name": "stdout",
     "output_type": "stream",
     "text": [
      "[2, 4, 3]\n"
     ]
    }
   ],
   "source": [
    "def intersection(arr1, arr2):\n",
    "    is_found = False\n",
    "    arr3 = []\n",
    "    for i in range(len(arr1)):\n",
    "        for j in range(len(arr2)):\n",
    "            if arr1[i] == arr2[j]:\n",
    "                arr3.append(arr1[i])\n",
    "                is_found = True\n",
    "                break\n",
    "    return arr3\n",
    "arr1 = [int(x) for x in input().split()]\n",
    "arr2 = [int(x) for x in input().split()]\n",
    "result = intersection(arr1, arr2)\n",
    "print(result)"
   ]
  },
  {
   "cell_type": "raw",
   "id": "190f6c91-0e04-4b8d-a696-c5d36238752d",
   "metadata": {},
   "source": [
    "The provided code aims to find the intersection of two arrays (`arr1` and `arr2`) and store the result in a third array (`arr3`). If at least one intersection is found, it prints `arr3`. If no intersection is found, it prints \"No intersection\". Let's break down how this code works and address any issues or improvements.\n",
    "\n",
    "### Code Explanation\n",
    "\n",
    "```python\n",
    "arr1 = [int(x) for x in input().split()]\n",
    "arr2 = [int(x) for x in input().split()]\n",
    "arr3 = []\n",
    "\n",
    "is_intersection = False\n",
    "\n",
    "for i in range(len(arr1)):\n",
    "    is_intersection = False\n",
    "    for j in range(len(arr2)):\n",
    "        if arr1[i] == arr2[j]:\n",
    "            arr3.append(arr1[i])\n",
    "            is_intersection = True\n",
    "            break\n",
    "\n",
    "if is_intersection:\n",
    "    print(arr3)\n",
    "else:\n",
    "    print(\"No intersection\")\n",
    "```\n",
    "\n",
    "### Step-by-Step Explanation\n",
    "\n",
    "1. **Input Reading**:\n",
    "   - `arr1` and `arr2` are read from the input as lists of integers.\n",
    "\n",
    "2. **Initialization**:\n",
    "   - `arr3` is initialized as an empty list to store the intersection elements.\n",
    "   - `is_intersection` is a boolean flag initially set to `False`.\n",
    "\n",
    "3. **Outer Loop**:\n",
    "   - Iterates over each element in `arr1`.\n",
    "\n",
    "4. **Inner Loop**:\n",
    "   - Iterates over each element in `arr2`.\n",
    "\n",
    "5. **Intersection Check**:\n",
    "   - If an element from `arr1` is found in `arr2`, it is appended to `arr3`.\n",
    "   - `is_intersection` is set to `True`, and the inner loop breaks to avoid adding duplicate elements.\n",
    "\n",
    "6. **Final Check**:\n",
    "   - After the loops, if `is_intersection` is `True`, `arr3` is printed.\n",
    "   - Otherwise, \"No intersection\" is printed.\n",
    "\n",
    "### Issues and Improvements\n",
    "\n",
    "#### Issue with `is_intersection` Flag:\n",
    "The `is_intersection` flag is reset to `False` at the start of each outer loop iteration. This means that the final check will only reflect the result of the last element in `arr1`. Instead, we should maintain a global check to see if any intersections were found throughout the entire loop.\n",
    "\n",
    "#### Improved Code:\n",
    "\n",
    "```python\n",
    "arr1 = [int(x) for x in input().split()]\n",
    "arr2 = [int(x) for x in input().split()]\n",
    "arr3 = []\n",
    "\n",
    "found_intersection = False  # Correct flag to check for any intersection\n",
    "\n",
    "for i in range(len(arr1)):\n",
    "    for j in range(len(arr2)):\n",
    "        if arr1[i] == arr2[j]:\n",
    "            arr3.append(arr1[i])\n",
    "            found_intersection = True  # Set flag to True when an intersection is found\n",
    "            break\n",
    "\n",
    "if found_intersection:\n",
    "    print(arr3)\n",
    "else:\n",
    "    print(\"No intersection\")\n",
    "```\n",
    "\n",
    "### Explanation of Improvements\n",
    "\n",
    "1. **`found_intersection` Flag**:\n",
    "   - This flag is only set to `True` when an intersection is found and remains `True` for the final check.\n",
    "\n",
    "2. **Nested Loops**:\n",
    "   - The inner loop breaks immediately after finding a match to avoid redundant checks.\n",
    "\n",
    "3. **Final Check**:\n",
    "   - `found_intersection` is used in the final check to determine if any intersections were found during the entire loop.\n",
    "\n",
    "### Example to Illustrate:\n",
    "\n",
    "Let's consider an example:\n",
    "\n",
    "- Input:\n",
    "  - `arr1 = [1, 2, 3, 4, 5]`\n",
    "  - `arr2 = [4, 5, 6, 7, 8]`\n",
    "\n",
    "- Execution:\n",
    "  - `arr1[3] == arr2[0]` (4 is found in both arrays)\n",
    "  - `arr1[4] == arr2[1]` (5 is found in both arrays)\n",
    "\n",
    "- Output:\n",
    "  - `arr3` will be `[4, 5]`\n",
    "  - The function prints: `[4, 5]`\n",
    "\n",
    "### Conclusion:\n",
    "\n",
    "This improved version of the code correctly maintains a global check for any intersections found throughout the entire loop and prints the correct result. It efficiently finds the intersection of two arrays while avoiding redundant checks and ensuring that each element is only added once."
   ]
  },
  {
   "cell_type": "markdown",
   "id": "df8361dd",
   "metadata": {},
   "source": [
    "# Pair Sum\n",
    "Problem statement\n",
    "You have been given an integer array/list(ARR) and a number X. Find and return the total number of pairs in the array/list which sum to X.\n",
    "\n",
    "Note:\n",
    "Given array/list can contain duplicate elements. "
   ]
  },
  {
   "cell_type": "code",
   "execution_count": 8,
   "id": "2f89df42",
   "metadata": {},
   "outputs": [
    {
     "name": "stdin",
     "output_type": "stream",
     "text": [
      " 1 3 6 2 5 4 3 2 4\n",
      " 12\n"
     ]
    },
    {
     "name": "stdout",
     "output_type": "stream",
     "text": [
      "0\n"
     ]
    }
   ],
   "source": [
    "arr = [int(x) for x in input().split()]\n",
    "number_sum = int(input())\n",
    "number_of_pairs = 0\n",
    "for i in range(len(arr)):\n",
    "    for j in range(i + 1, len(arr)):\n",
    "        if arr[i] + arr[j] == number_sum:\n",
    "            number_of_pairs = number_of_pairs + 1\n",
    "            #break\n",
    "print(number_of_pairs)\n",
    "            "
   ]
  },
  {
   "cell_type": "markdown",
   "id": "5bd1ab7a-d682-4d23-8317-3403152964a0",
   "metadata": {},
   "source": [
    "# Pair Sum with the help of function"
   ]
  },
  {
   "cell_type": "code",
   "execution_count": 18,
   "id": "e75e04f5-7df6-4567-8e7e-05df5c4e3edc",
   "metadata": {},
   "outputs": [
    {
     "name": "stdin",
     "output_type": "stream",
     "text": [
      " 1 3 6 2 4 3 4 2 4\n"
     ]
    },
    {
     "name": "stdout",
     "output_type": "stream",
     "text": [
      "7\n"
     ]
    }
   ],
   "source": [
    "def pair_sum(arr, x):\n",
    "    number_of_pairs = 0\n",
    "    for i in range(len(arr)):\n",
    "        for j in range(i + 1, len(arr)):\n",
    "            if arr[i] + arr[j] == x:\n",
    "                number_of_pairs = number_of_pairs + 1\n",
    "    return number_of_pairs\n",
    "arr1 = [int(x) for x in input().split()]\n",
    "result = pair_sum(arr, 7)\n",
    "print(result)\n",
    "                "
   ]
  },
  {
   "cell_type": "code",
   "execution_count": 16,
   "id": "5ab7c850-6af7-414b-80d2-b7af2cfc7d69",
   "metadata": {},
   "outputs": [
    {
     "name": "stdout",
     "output_type": "stream",
     "text": [
      "7\n"
     ]
    }
   ],
   "source": []
  }
 ],
 "metadata": {
  "kernelspec": {
   "display_name": "Python 3 (ipykernel)",
   "language": "python",
   "name": "python3"
  },
  "language_info": {
   "codemirror_mode": {
    "name": "ipython",
    "version": 3
   },
   "file_extension": ".py",
   "mimetype": "text/x-python",
   "name": "python",
   "nbconvert_exporter": "python",
   "pygments_lexer": "ipython3",
   "version": "3.11.5"
  }
 },
 "nbformat": 4,
 "nbformat_minor": 5
}
