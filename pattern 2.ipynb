{
 "cells": [
  {
   "cell_type": "code",
   "execution_count": 4,
   "id": "098797b8",
   "metadata": {},
   "outputs": [
    {
     "name": "stdout",
     "output_type": "stream",
     "text": [
      "4\n",
      "   1\n",
      "  12\n",
      " 123\n",
      "1234\n"
     ]
    }
   ],
   "source": [
    "n = int(input())\n",
    "i = 1\n",
    "while i <= n:\n",
    "    space = 1\n",
    "    while space <= n - i:\n",
    "        print(\" \", end = \"\")\n",
    "        space = space + 1\n",
    "    #star = 1\n",
    "    j = 1\n",
    "    while j <= i:\n",
    "        print(j, end = \"\")\n",
    "        j = j + 1\n",
    "        #star = star + 1\n",
    "    print()\n",
    "    i = i + 1"
   ]
  },
  {
   "cell_type": "code",
   "execution_count": 1,
   "id": "51021d74",
   "metadata": {},
   "outputs": [
    {
     "name": "stdout",
     "output_type": "stream",
     "text": [
      "4\n",
      "   1\n",
      "  12\n",
      " 123\n",
      "1234\n"
     ]
    }
   ],
   "source": [
    "# By using For loop\n",
    "n = int(input())\n",
    "for i in range(1, n + 1, 1):\n",
    "    for space in range(1, n - i + 1, 1):\n",
    "        print(' ', end = \"\")\n",
    "    for j in range(1, i + 1, 1):\n",
    "        print(j, end = \"\")\n",
    "    print()"
   ]
  },
  {
   "cell_type": "code",
   "execution_count": 7,
   "id": "b73712e2",
   "metadata": {},
   "outputs": [
    {
     "name": "stdout",
     "output_type": "stream",
     "text": [
      "4\n",
      "   *\n",
      "  ***\n",
      " *****\n",
      "*******\n"
     ]
    }
   ],
   "source": [
    "n = int(input())\n",
    "i = 1\n",
    "while i <= n:\n",
    "    space = 1\n",
    "    while space <= n - i:\n",
    "        print(\" \", end = \"\")\n",
    "        space = space + 1\n",
    "    j = 1\n",
    "    while j <= i:\n",
    "        print(\"*\", end = \"\")\n",
    "        j = j + 1\n",
    "# Decreasing pattern \n",
    "    p = i - 1\n",
    "    while p >= 1:\n",
    "        print(\"*\", end = \"\")\n",
    "        p = p - 1\n",
    "        \n",
    "    print()\n",
    "    i = i + 1"
   ]
  },
  {
   "cell_type": "code",
   "execution_count": 6,
   "id": "28d45979",
   "metadata": {},
   "outputs": [
    {
     "name": "stdout",
     "output_type": "stream",
     "text": [
      "4\n",
      "   *\n",
      "  ***\n",
      " *****\n",
      "*******\n"
     ]
    }
   ],
   "source": [
    "n = int(input())\n",
    "for i in range(1, n + 1, 1):\n",
    "    for space in range(1, n - i + 1, 1):\n",
    "        print(\" \", end = \"\")\n",
    "    for j in range(1, i + 1, 1):\n",
    "        print(\"*\", end = \"\")\n",
    "    for p in range(1, i):\n",
    "        print(\"*\", end = \"\")\n",
    "    print()\n",
    "        "
   ]
  },
  {
   "cell_type": "markdown",
   "id": "2ac4d7a8",
   "metadata": {},
   "source": [
    "Problem statement\n",
    "Print the following pattern for the given number of rows.\n",
    "\n",
    "Pattern for N = 4\n",
    "\n",
    "    1  \n",
    "    \n",
    "   23.2\n",
    "   \n",
    "  345.43 \n",
    "  \n",
    " 4567.654\n",
    "\n",
    "The dots represent spaces."
   ]
  },
  {
   "cell_type": "code",
   "execution_count": 8,
   "id": "79c1569a",
   "metadata": {
    "scrolled": true
   },
   "outputs": [
    {
     "name": "stdout",
     "output_type": "stream",
     "text": [
      "4\n",
      "   1\n",
      "  232\n",
      " 34543\n",
      "4567654\n"
     ]
    }
   ],
   "source": [
    "n = int(input())\n",
    "i = 1\n",
    "\n",
    "while i <= n:\n",
    "    space = 1\n",
    "    p = i\n",
    "    while space <= n - i:\n",
    "        print(\" \", end = \"\")\n",
    "        space = space + 1\n",
    "    j = 1\n",
    "    while j <= i:\n",
    "        print(p, end = \"\")\n",
    "        j = j + 1\n",
    "        p = p + 1\n",
    "    # Decreasing pattern\n",
    "    p = 2*i - 2\n",
    "    while p >= i:\n",
    "        print(p, end = \"\")\n",
    "        p = p - 1\n",
    "    print()\n",
    "    i = i + 1"
   ]
  },
  {
   "cell_type": "code",
   "execution_count": 7,
   "id": "0f91972e",
   "metadata": {},
   "outputs": [
    {
     "name": "stdout",
     "output_type": "stream",
     "text": [
      "Enter the number of rows: 4\n",
      "   1\n",
      "  232\n",
      " 34543\n",
      "4567654\n"
     ]
    }
   ],
   "source": [
    "n = int(input(\"Enter the number of rows: \"))\n",
    "\n",
    "for i in range(1, n + 1):\n",
    "    # Print leading spaces\n",
    "    for space in range(1, n - i + 1):\n",
    "        print(\" \", end=\"\")\n",
    "    \n",
    "    # Print increasing pattern\n",
    "    p = i\n",
    "    for j in range(1, i + 1):\n",
    "        print(p, end=\"\")\n",
    "        p = p + 1\n",
    "    \n",
    "    # Print decreasing pattern\n",
    "    p = 2 * i - 2\n",
    "    for p in range(2 * i - 2, i - 1, -1):\n",
    "        print(p, end=\"\")\n",
    "    \n",
    "    # Move to the next line after each row\n",
    "    print()\n"
   ]
  },
  {
   "attachments": {
    "image.png": {
     "image/png": "[encoded data removed]"
    }
   },
   "cell_type": "markdown",
   "id": "f990bb3e",
   "metadata": {},
   "source": [
    "Problem statement\n",
    "Print the following pattern for the given number of rows.\n",
    "\n",
    "Note: N is always odd.\n",
    "\n",
    "\n",
    "Pattern for N = 5\n",
    "\n",
    "![image.png](attachment:image.png)\n"
   ]
  },
  {
   "cell_type": "code",
   "execution_count": 11,
   "id": "11c2ec11",
   "metadata": {},
   "outputs": [
    {
     "name": "stdout",
     "output_type": "stream",
     "text": [
      "5\n",
      "  *\n",
      " ***\n",
      "*****\n",
      ".***\n",
      "..*\n"
     ]
    }
   ],
   "source": [
    "n = int(input())\n",
    "if n % 2 != 0:\n",
    "    n1 = (n + 1) // 2\n",
    "    n2 = (n//2)\n",
    "    # Increasing star till N1\n",
    "    i = 1\n",
    "    while i <= n1:\n",
    "        # Printing space\n",
    "        space = 1\n",
    "        while space <= n1 - i:\n",
    "            print(\" \", end = \"\")\n",
    "            space = space + 1\n",
    "        j = 1\n",
    "        while j <= i:\n",
    "            print(\"*\", end = \"\")\n",
    "            j = j + 1\n",
    "            \n",
    "        p = i - 1\n",
    "        while p >= 1:\n",
    "            print(\"*\", end = \"\")\n",
    "            p = p - 1\n",
    "        i = i + 1\n",
    "        print()\n",
    "    # Bottom Star\n",
    "    i = n2\n",
    "    while i >= 1:\n",
    "        # Printing Spaces \n",
    "        space = 1\n",
    "        while space <= n2 - i + 1:\n",
    "            print(\".\", end = \"\")\n",
    "            space = space + 1\n",
    "        j = 1\n",
    "        while j <= (2 * i) - 1:\n",
    "            print(\"*\", end = \"\")\n",
    "            j = j + 1\n",
    "            \n",
    "        i = i - 1\n",
    "        print()"
   ]
  },
  {
   "attachments": {
    "image.png": {
     "image/png": "[encoded data removed]"
    }
   },
   "cell_type": "markdown",
   "id": "05f30959",
   "metadata": {},
   "source": [
    "Problem statement\n",
    "Print the following pattern for n number of rows.\n",
    "\n",
    "Note: each line consist of equal number of characters + spaces. Suppose you are printing xth line for N=n. You need to print 1..x followed by (n-x) spaces, again (n-x) spaces followed by x..1\n",
    "\n",
    "\n",
    "![image.png](attachment:image.png)"
   ]
  },
  {
   "cell_type": "code",
   "execution_count": 22,
   "id": "f930fb65",
   "metadata": {},
   "outputs": [
    {
     "name": "stdout",
     "output_type": "stream",
     "text": [
      "6\n",
      "1          1\n",
      "12        21\n",
      "123      321\n",
      "1234    4321\n",
      "12345  54321\n",
      "123456654321\n"
     ]
    }
   ],
   "source": [
    "n = int(input()) \n",
    "i = 1\n",
    "while i <= n:\n",
    "\n",
    "# Printing The left side\n",
    "    j = 1\n",
    "    while j <= i:\n",
    "        print(j, end = \"\")\n",
    "        j = j + 1\n",
    "# Printing the spaces    \n",
    "    space = 1\n",
    "    while space <= ((n * 2) - (2 * i)):\n",
    "        print(\" \", end = \"\")\n",
    "        space = space + 1\n",
    "#Printing the right side\n",
    "    j = 1\n",
    "    while j <= i:\n",
    "        print(i - j + 1, end = \"\")\n",
    "        j = j + 1\n",
    "    print()\n",
    "    i = i + 1"
   ]
  },
  {
   "cell_type": "markdown",
   "id": "8b905186",
   "metadata": {},
   "source": [
    "Problem statement\n",
    "Print the following pattern\n",
    "\n",
    "Pattern for N = 4\n",
    "\n",
    "*000*000*\n",
    "0*00*00*0\n",
    "00*0*0*00\n",
    "000***000 \n"
   ]
  },
  {
   "cell_type": "code",
   "execution_count": null,
   "id": "5c45ecee",
   "metadata": {},
   "outputs": [],
   "source": []
  },
  {
   "cell_type": "markdown",
   "id": "b7476cfa",
   "metadata": {},
   "source": [
    "Problem statement\n",
    "Print the following pattern for the given number of rows.\n",
    "\n",
    "Pattern for N = 4\n",
    "   1\n",
    "  212\n",
    " 32123\n",
    "4321234"
   ]
  },
  {
   "cell_type": "code",
   "execution_count": 44,
   "id": "d34f347f",
   "metadata": {},
   "outputs": [
    {
     "name": "stdout",
     "output_type": "stream",
     "text": [
      "4\n",
      "   1\n",
      "  212\n",
      " 32123\n",
      "4321234\n"
     ]
    }
   ],
   "source": [
    "n = int(input())\n",
    "i = 1\n",
    "while i <= n:\n",
    "    space = 1\n",
    "    while space <= n - i:\n",
    "        print(\" \", end = \"\")\n",
    "        space = space + 1\n",
    "    j = 1\n",
    "    while j <= i:\n",
    "        print(i - j + 1, end = \"\")\n",
    "        j = j + 1\n",
    "        \n",
    "    k = 2\n",
    "    p = 2*i - 2\n",
    "    while p >= i:\n",
    "        print(k, end = \"\")\n",
    "        p = p - 1 \n",
    "        k = k + 1\n",
    "    \n",
    "    print()\n",
    "    i = i + 1"
   ]
  },
  {
   "cell_type": "markdown",
   "id": "4ad3efef",
   "metadata": {},
   "source": [
    "Problem statement\n",
    "Print the following pattern for the given number of rows.\n",
    "\n",
    "Assume N is always odd.\n",
    "\n",
    "Note : There is space after every star. Pattern for N = 7\n",
    "*\n",
    " * *\n",
    "   * * *\n",
    "     * * * *\n",
    "   * * *\n",
    " * *\n",
    "*\n"
   ]
  },
  {
   "cell_type": "code",
   "execution_count": 57,
   "id": "45ea413c",
   "metadata": {},
   "outputs": [
    {
     "name": "stdout",
     "output_type": "stream",
     "text": [
      "7\n",
      "*\n",
      ".**\n",
      "..***\n",
      "...****\n",
      "..***\n",
      ".**\n",
      "*\n"
     ]
    }
   ],
   "source": [
    "n = int(input())\n",
    "if n % 2 != 0:\n",
    "    n1 = (n + 1) // 2\n",
    "    n2 = n // 2\n",
    "    i = 1\n",
    "    while i <= n1:\n",
    "        space = 1\n",
    "        while space <= i - 1:\n",
    "            print(\".\", end = \"\")\n",
    "            space = space + 1\n",
    "        j = 1\n",
    "        while j <= i:\n",
    "            print(\"*\", end= \"\")\n",
    "            j = j + 1\n",
    "        i = i + 1\n",
    "        print()\n",
    "\n",
    "    i = n2\n",
    "    while i >= 1:\n",
    "        space = 1\n",
    "        while space <= i - 1:\n",
    "            print(\".\", end = \"\")\n",
    "            space = space + 1\n",
    "        j = 1\n",
    "        while j <= i:\n",
    "            print(\"*\", end = \"\")\n",
    "            j= j + 1\n",
    "        i = i - 1\n",
    "        print()\n"
   ]
  }
 ],
 "metadata": {
  "kernelspec": {
   "display_name": "Python 3 (ipykernel)",
   "language": "python",
   "name": "python3"
  },
  "language_info": {
   "codemirror_mode": {
    "name": "ipython",
    "version": 3
   },
   "file_extension": ".py",
   "mimetype": "text/x-python",
   "name": "python",
   "nbconvert_exporter": "python",
   "pygments_lexer": "ipython3",
   "version": "3.11.5"
  }
 },
 "nbformat": 4,
 "nbformat_minor": 5
}
