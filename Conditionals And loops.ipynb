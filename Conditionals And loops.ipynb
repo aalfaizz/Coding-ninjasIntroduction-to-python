{
 "cells": [
  {
   "cell_type": "markdown",
   "id": "08ad36c9",
   "metadata": {},
   "source": [
    "# Coditionals And loops"
   ]
  },
  {
   "cell_type": "raw",
   "id": "89e8940e",
   "metadata": {},
   "source": [
    "q1) Check Numbers"
   ]
  },
  {
   "cell_type": "markdown",
   "id": "de5e6383",
   "metadata": {},
   "source": [
    "Given an integer n, find if n is positive, negative or 0.\n",
    "\n",
    "If n is positive, print \"Positive\"\n",
    "\n",
    "If n is negative, print \"Negative\"\n",
    "\n",
    "And if n is equal to 0, print \"Zero\".\n"
   ]
  },
  {
   "cell_type": "code",
   "execution_count": 2,
   "id": "f2fd0412",
   "metadata": {},
   "outputs": [
    {
     "name": "stdout",
     "output_type": "stream",
     "text": [
      "0\n",
      "Zero\n"
     ]
    }
   ],
   "source": [
    "n = int(input())\n",
    "if n > 0 :\n",
    "    print(\"Positive\")\n",
    "elif n < 0 :\n",
    "    print(\"Negative\")\n",
    "else:\n",
    "    print(\"Zero\")"
   ]
  },
  {
   "cell_type": "raw",
   "id": "6553c455",
   "metadata": {},
   "source": [
    "q2) Sum of N numbers"
   ]
  },
  {
   "cell_type": "markdown",
   "id": "f71cf9d8",
   "metadata": {},
   "source": [
    "Given an integer n, find and print the sum of numbers from 1 to n.\n",
    "\n",
    "Note\n",
    "Use while loop only."
   ]
  },
  {
   "cell_type": "code",
   "execution_count": 4,
   "id": "deb820ad",
   "metadata": {},
   "outputs": [
    {
     "name": "stdout",
     "output_type": "stream",
     "text": [
      "10\n",
      "55\n"
     ]
    }
   ],
   "source": [
    "n = int(input())\n",
    "sum = 0\n",
    "counter = 1\n",
    "while counter <= n:\n",
    "    sum = sum + counter\n",
    "    counter = counter + 1\n",
    "print(sum)"
   ]
  },
  {
   "cell_type": "raw",
   "id": "0543c351",
   "metadata": {},
   "source": [
    "q3) Sum of Even number"
   ]
  },
  {
   "cell_type": "markdown",
   "id": "0e2072fd",
   "metadata": {},
   "source": [
    "Problem statement\n",
    "Given a number N, print sum of all even numbers from 1 to N."
   ]
  },
  {
   "cell_type": "code",
   "execution_count": 6,
   "id": "f26bbcb9",
   "metadata": {},
   "outputs": [
    {
     "name": "stdout",
     "output_type": "stream",
     "text": [
      "7\n",
      "12\n"
     ]
    }
   ],
   "source": [
    "n = int(input())\n",
    "even_sum = 0 \n",
    "counter = 1\n",
    "while counter <= n:\n",
    "    if counter % 2 == 0:\n",
    "        even_sum = even_sum + counter\n",
    "    counter = counter + 1\n",
    "print(even_sum)"
   ]
  },
  {
   "cell_type": "raw",
   "id": "b6e280ad",
   "metadata": {},
   "source": [
    "q4) Fahrenheit to celcius "
   ]
  },
  {
   "cell_type": "markdown",
   "id": "d249d9cd",
   "metadata": {},
   "source": [
    "\n",
    "Given three values - Start Fahrenheit Value (S), End Fahrenheit value (E) and Step Size (W), you need to convert all Fahrenheit values from Start to End at the gap of W, into their corresponding Celsius values and print the table."
   ]
  },
  {
   "cell_type": "code",
   "execution_count": null,
   "id": "a98f94e8",
   "metadata": {},
   "outputs": [],
   "source": [
    "s = int(input())\n",
    "e = int(input())\n",
    "w = int(input())\n",
    "f = s\n",
    "while f <= e:\n",
    "    c = (f - 32) * (5 / 9)\n",
    "    print(f, \"\\t\", int(c))\n",
    "    f = f + w"
   ]
  },
  {
   "cell_type": "raw",
   "id": "a2270196",
   "metadata": {},
   "source": [
    "q5)Calculator"
   ]
  },
  {
   "cell_type": "markdown",
   "id": "741709fd",
   "metadata": {},
   "source": [
    "Note: Solve this question after watching the video \"More on While Loop\".\n",
    "Write a program that performs the tasks of a simple calculator. The program should first take an integer as input and then based on that integer perform the task as given below. You should also take an integer n that would actually tell us how many times will the operations be performed.\n",
    "\n",
    "1. If the input is 1, then 2 integers are taken from the user and their sum is printed.\n",
    "2. If the input is 2, then 2 integers are taken from the user and their difference(1st number - 2nd number) is printed.\n",
    "3. If the input is 3, then 2 integers are taken from the user and their product is printed.\n",
    "4. If the input is 4, then 2 integers are taken from the user and the quotient obtained (on dividing 1st number by 2nd number) is printed.\n",
    "5. If the input is 5, then 2 integers are taken from the user and their remainder(1st number mod 2nd number) is printed.\n",
    "6. If the input is 6, then the program exits.\n",
    "7. For any other input, then print \"Invalid Operation\".\n",
    "Note: Each answer in next line."
   ]
  },
  {
   "cell_type": "code",
   "execution_count": null,
   "id": "10d8b960",
   "metadata": {},
   "outputs": [],
   "source": [
    "while True:\n",
    "    n = int(input())\n",
    "    if n == 1:\n",
    "        a = int(input())\n",
    "        b = int(input())\n",
    "        print( a + b)\n",
    "    if n == 2:\n",
    "        a = int(input())\n",
    "        b = int(input())\n",
    "        print(a - b)\n",
    "    if n == 3:\n",
    "        a = int(input())\n",
    "        b = int(input())\n",
    "        print(a * b)\n",
    "    if n == 4:\n",
    "        a = int(input())\n",
    "        b = int(input())\n",
    "        print(a // b)\n",
    "    if n == 5:\n",
    "        a = int(input())\n",
    "        b = int(input())\n",
    "        print(a % b)\n",
    "    if n == 6:\n",
    "        break\n",
    "    else:\n",
    "        print(\"Invalid Operation\")"
   ]
  },
  {
   "cell_type": "markdown",
   "id": "22978117",
   "metadata": {},
   "source": [
    "q6) Reverse A Number"
   ]
  },
  {
   "cell_type": "raw",
   "id": "7c867886",
   "metadata": {},
   "source": [
    "Problem statement\n",
    "Write a program to generate the reverse of a given number N. Print the corresponding reverse number.\n",
    "\n",
    "Note : If a number has trailing zeros, then its reverse will not include them. For e.g., reverse of 10400 will be 401 instead of 00401."
   ]
  },
  {
   "cell_type": "code",
   "execution_count": 11,
   "id": "6a361427",
   "metadata": {},
   "outputs": [
    {
     "name": "stdout",
     "output_type": "stream",
     "text": [
      "1234\n",
      "4321\n"
     ]
    }
   ],
   "source": [
    "n = int(input())\n",
    "counter = 0\n",
    "while n > 0 :\n",
    "    remainder = n % 10 \n",
    "    counter = counter * 10 + remainder\n",
    "    n = n // 10\n",
    "print(counter)"
   ]
  },
  {
   "cell_type": "raw",
   "id": "4b2c3a04",
   "metadata": {},
   "source": [
    "q7) Palindrom Number "
   ]
  },
  {
   "cell_type": "markdown",
   "id": "decf5c67",
   "metadata": {},
   "source": [
    "Problem statement\n",
    "Check whether a given number ’n’ is a palindrome number.\n",
    "\n",
    "Note :\n",
    "Palindrome numbers are the numbers that don't change when reversed.\n",
    "You don’t need to print anything. Just implement the given function.\n",
    "Example:\n",
    "Input: 'n' = 51415\n",
    "Output: true\n",
    "Explanation: On reversing, 51415 gives 51415."
   ]
  },
  {
   "cell_type": "code",
   "execution_count": 13,
   "id": "9f8964e2",
   "metadata": {},
   "outputs": [
    {
     "name": "stdout",
     "output_type": "stream",
     "text": [
      "51415\n",
      "true\n"
     ]
    }
   ],
   "source": [
    "n = int(input())\n",
    "d = n \n",
    "counter = 0\n",
    "while n > 0 :\n",
    "    remainder = n % 10\n",
    "    counter = counter * 10 + remainder \n",
    "    n = n // 10\n",
    "if counter == d:\n",
    "    print(\"true\")\n",
    "else:\n",
    "    print(\"false\")\n",
    "    "
   ]
  },
  {
   "cell_type": "raw",
   "id": "838b3f73",
   "metadata": {},
   "source": [
    "q8)Sum of Even And Odd\n"
   ]
  },
  {
   "cell_type": "markdown",
   "id": "cb11f6bf",
   "metadata": {},
   "source": [
    "Write a program to input an integer 'n' and print the sum of all its even digits and the sum of all its odd digits separately.\n",
    "\n",
    "\n",
    "\n",
    "Digits mean numbers, not places! That is, if the given integer is \"132456\", even digits are 2, 4, and 6, and odd digits are 1, 3, and 5.\n",
    "\n",
    "\n",
    "Example :\n",
    "Input: 'n' = 132456\n",
    "\n",
    "Output: 12 9\n",
    "\n",
    "Explanation:\n",
    "The sum of even digits = 2 + 4 + 6 = 12\n",
    "The sum of odd digits = 1 + 3 + 5 = 9"
   ]
  },
  {
   "cell_type": "code",
   "execution_count": 16,
   "id": "a1d3990a",
   "metadata": {},
   "outputs": [
    {
     "name": "stdout",
     "output_type": "stream",
     "text": [
      "132456\n",
      "12 9\n"
     ]
    }
   ],
   "source": [
    "n = int(input())\n",
    "even_sum = 0\n",
    "odd_sum = 0\n",
    "while n > 0:\n",
    "    remainder = n % 10 \n",
    "    if remainder % 2 == 0:\n",
    "        even_sum = even_sum + remainder\n",
    "    else:\n",
    "        odd_sum = odd_sum + remainder\n",
    "    n = n // 10\n",
    "print(even_sum, odd_sum )"
   ]
  },
  {
   "cell_type": "raw",
   "id": "e7a71c9e",
   "metadata": {},
   "source": [
    "q9) Nth Fibonacci Number"
   ]
  },
  {
   "cell_type": "markdown",
   "id": "4fc434f0",
   "metadata": {},
   "source": [
    "Problem statement\n",
    "Write a program to find the Nth Fibonacci number using loops.\n",
    "\n",
    "\n",
    "\n",
    "Note :\n",
    "The Fibonacci series is a sequence of numbers in which each number is the sum of the two preceding ones, usually starting with first_number  and Second_number . \n",
    "First_number and Second_number in this question will be 1 . Soo that the resultant series will be 1, 1, 2, 3, 5, 8 ..."
   ]
  },
  {
   "cell_type": "code",
   "execution_count": 20,
   "id": "10ade6b7",
   "metadata": {},
   "outputs": [
    {
     "name": "stdout",
     "output_type": "stream",
     "text": [
      "6\n",
      "8\n"
     ]
    }
   ],
   "source": [
    "n = int(input())\n",
    "i = 1\n",
    "a = 1\n",
    "b = 1\n",
    "while i < n:\n",
    "    c =  a + b\n",
    "    a = b\n",
    "    b = c\n",
    "    i = i + 1\n",
    "print(a)\n",
    "    "
   ]
  },
  {
   "cell_type": "code",
   "execution_count": null,
   "id": "f566fd99",
   "metadata": {},
   "outputs": [],
   "source": []
  }
 ],
 "metadata": {
  "kernelspec": {
   "display_name": "Python 3 (ipykernel)",
   "language": "python",
   "name": "python3"
  },
  "language_info": {
   "codemirror_mode": {
    "name": "ipython",
    "version": 3
   },
   "file_extension": ".py",
   "mimetype": "text/x-python",
   "name": "python",
   "nbconvert_exporter": "python",
   "pygments_lexer": "ipython3",
   "version": "3.11.5"
  }
 },
 "nbformat": 4,
 "nbformat_minor": 5
}
