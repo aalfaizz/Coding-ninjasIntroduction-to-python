{
 "cells": [
  {
   "cell_type": "code",
   "execution_count": 2,
   "id": "37849e0c",
   "metadata": {
    "scrolled": true
   },
   "outputs": [
    {
     "name": "stdout",
     "output_type": "stream",
     "text": [
      "10\n",
      "4\n",
      "10000\n"
     ]
    }
   ],
   "source": [
    "x = int(input())\n",
    "n = int(input())\n",
    "print(x**n)\n"
   ]
  },
  {
   "cell_type": "code",
   "execution_count": 2,
   "id": "4410d7d5",
   "metadata": {},
   "outputs": [
    {
     "name": "stdout",
     "output_type": "stream",
     "text": [
      "1\n",
      "1\n",
      "3\n",
      "3\n",
      "4\n"
     ]
    }
   ],
   "source": [
    "x1 = int(input())\n",
    "y1 = int(input())\n",
    "x2 = int(input())\n",
    "y2 = int(input())\n",
    "area_of_rectangle = (x2 - x1) * (y2 - y1)\n",
    "print(area_of_rectangle)"
   ]
  },
  {
   "cell_type": "markdown",
   "id": "508d19e0",
   "metadata": {},
   "source": [
    "# Check Number\n",
    "\n",
    "Given an integer n, find if n is positive, negative or 0.\n",
    "\n",
    "If n is positive, print \"Positive\"\n",
    "\n",
    "If n is negative, print \"Negative\"\n",
    "\n",
    "And if n is equal to 0, print \"Zero\"."
   ]
  },
  {
   "cell_type": "code",
   "execution_count": 2,
   "id": "2116e781",
   "metadata": {},
   "outputs": [
    {
     "name": "stdout",
     "output_type": "stream",
     "text": [
      "0\n",
      "Zero\n"
     ]
    }
   ],
   "source": [
    "n = int(input())\n",
    "if n > 0 :\n",
    "    print(\"Positive\")\n",
    "elif n < 0:\n",
    "    print(\"Negative\")\n",
    "else:\n",
    "    print(\"Zero\")"
   ]
  },
  {
   "cell_type": "markdown",
   "id": "29c93d84",
   "metadata": {},
   "source": [
    "# Sum of n numbers\n",
    "\n",
    "Problem statement\n",
    "Given an integer n, find and print the sum of numbers from 1 to n."
   ]
  },
  {
   "cell_type": "code",
   "execution_count": 3,
   "id": "e144c550",
   "metadata": {},
   "outputs": [
    {
     "name": "stdout",
     "output_type": "stream",
     "text": [
      "10\n",
      "55\n"
     ]
    }
   ],
   "source": [
    "n = int(input())\n",
    "sum = 0\n",
    "i = 1\n",
    "while i <= n:\n",
    "    sum = sum + i\n",
    "    i = i + 1\n",
    "print(sum)"
   ]
  },
  {
   "cell_type": "code",
   "execution_count": 8,
   "id": "20fd0bbc",
   "metadata": {},
   "outputs": [
    {
     "name": "stdout",
     "output_type": "stream",
     "text": [
      "10\n",
      "55\n"
     ]
    }
   ],
   "source": [
    "n = int(input())\n",
    "sum = 0\n",
    "for i in range(n+1):\n",
    "    sum = sum + i\n",
    "print(sum)"
   ]
  },
  {
   "cell_type": "markdown",
   "id": "a6eeb30d",
   "metadata": {},
   "source": [
    "# Sum Of Even Numbers TILL N\n",
    "\n",
    "Problem statement\n",
    "Given a number N, print sum of all even numbers from 1 to N.\n",
    "\n"
   ]
  },
  {
   "cell_type": "code",
   "execution_count": 1,
   "id": "60ba91cc",
   "metadata": {},
   "outputs": [
    {
     "name": "stdout",
     "output_type": "stream",
     "text": [
      "6\n",
      "12\n"
     ]
    }
   ],
   "source": [
    "n = int(input())\n",
    "sum = 0\n",
    "i = 1\n",
    "while i <= n:\n",
    "    if i % 2 == 0:\n",
    "        sum = sum + i\n",
    "    i = i + 1\n",
    "print(sum)"
   ]
  },
  {
   "cell_type": "code",
   "execution_count": 3,
   "id": "9788ec4f",
   "metadata": {},
   "outputs": [
    {
     "name": "stdout",
     "output_type": "stream",
     "text": [
      "6\n",
      "12\n"
     ]
    }
   ],
   "source": [
    "n = int(input())\n",
    "sum = 0\n",
    "i = 2\n",
    "while i <= n:\n",
    "    sum = sum + i\n",
    "    i = i + 2\n",
    "print(sum)"
   ]
  },
  {
   "cell_type": "code",
   "execution_count": 1,
   "id": "5a3add7a",
   "metadata": {},
   "outputs": [
    {
     "name": "stdin",
     "output_type": "stream",
     "text": [
      " 6\n"
     ]
    },
    {
     "name": "stdout",
     "output_type": "stream",
     "text": [
      "12\n"
     ]
    }
   ],
   "source": [
    "n = int(input())\n",
    "sum = 0\n",
    "for i in range(1,n+1):\n",
    "    if i % 2 == 0:\n",
    "        sum = sum + i\n",
    "print(sum)"
   ]
  },
  {
   "cell_type": "markdown",
   "id": "364fbb20",
   "metadata": {},
   "source": [
    "# Fahrenheit to Celcius\n",
    "\n",
    "Problem statement\n",
    "Given three values - Start Fahrenheit Value (S), End Fahrenheit value (E) and Step Size (W), you need to convert all Fahrenheit values from Start to End at the gap of W, into their corresponding Celsius values and print the table.\n",
    "\n"
   ]
  },
  {
   "cell_type": "code",
   "execution_count": 2,
   "id": "2a6292b3",
   "metadata": {},
   "outputs": [
    {
     "name": "stdout",
     "output_type": "stream",
     "text": [
      "Fahrenheit Value: 0\n",
      "End Fahrenheit VAlue: 100\n",
      "Step Size20\n",
      "0 \t -17\n",
      "20 \t -6\n",
      "40 \t 4\n",
      "60 \t 15\n",
      "80 \t 26\n",
      "100 \t 37\n"
     ]
    }
   ],
   "source": [
    "s = int(input(\"Fahrenheit Value: \" ))\n",
    "e = int(input(\"End Fahrenheit VAlue: \" ))\n",
    "w = int(input(\"Step Size\"))\n",
    "f = s\n",
    "while f <= e:\n",
    "    c = (f - 32)*(5/9)\n",
    "    print(f,\"\\t\",int(c))\n",
    "    f = f + w"
   ]
  },
  {
   "cell_type": "markdown",
   "id": "aa0e4b95",
   "metadata": {},
   "source": [
    "# Calculator\n",
    "\n",
    "Problem statement\n",
    "Note: Solve this question after watching the video \"More on While Loop\".\n",
    "Write a program that performs the tasks of a simple calculator. The program should first take an integer as input and then based on that integer perform the task as given below. You should also take an integer n that would actually tell us how many times will the operations be performed.\n",
    "\n",
    "1. If the input is 1, then 2 integers are taken from the user and their sum is printed.\n",
    "2. If the input is 2, then 2 integers are taken from the user and their difference(1st number - 2nd number) is printed.\n",
    "3. If the input is 3, then 2 integers are taken from the user and their product is printed.\n",
    "4. If the input is 4, then 2 integers are taken from the user and the quotient obtained (on dividing 1st number by 2nd number) is printed.\n",
    "5. If the input is 5, then 2 integers are taken from the user and their remainder(1st number mod 2nd number) is printed.\n",
    "6. If the input is 6, then the program exits.\n",
    "7. For any other input, then print \"Invalid Operation\".\n",
    "Note: Each answer in next line."
   ]
  },
  {
   "cell_type": "code",
   "execution_count": 2,
   "id": "f662a340",
   "metadata": {},
   "outputs": [
    {
     "name": "stdout",
     "output_type": "stream",
     "text": [
      "3\n",
      "1\n",
      "2\n",
      "2\n",
      "4\n",
      "4\n",
      "2\n",
      "2\n",
      "1\n",
      "3\n",
      "2\n",
      "5\n",
      "7\n",
      "Invalid Operation\n",
      "6\n"
     ]
    }
   ],
   "source": [
    "while True:\n",
    "    n = int(input())\n",
    "    if n == 1:\n",
    "        a = int(input())\n",
    "        b = int(input())\n",
    "        print(a+b)\n",
    "    if n == 2:\n",
    "        a = int(input())\n",
    "        b = int(input())\n",
    "        print(a - b)\n",
    "    if n == 3:\n",
    "        a = int(input())\n",
    "        b = int(input())\n",
    "        print( a * b)\n",
    "    if n == 4:\n",
    "        a = int(input())\n",
    "        b = int(input())\n",
    "        print(a //b )\n",
    "    if n == 5:\n",
    "        a = int(input())\n",
    "        b = int(input())\n",
    "        print(a % b)\n",
    "    if n == 6:\n",
    "        break\n",
    "    if(n < 1 or n > 6):\n",
    "        print(\"Invalid Operation\")\n",
    "    "
   ]
  },
  {
   "cell_type": "markdown",
   "id": "2122f022",
   "metadata": {},
   "source": [
    "# Reverse A Number\n",
    "Problem statement\n",
    "Write a program to generate the reverse of a given number N. Print the corresponding reverse number.\n",
    "\n",
    "Note : If a number has trailing zeros, then its reverse will not include them. For e.g., reverse of 10400 will be 401 instead of 00401."
   ]
  },
  {
   "cell_type": "code",
   "execution_count": 9,
   "id": "640d67e6",
   "metadata": {},
   "outputs": [
    {
     "name": "stdout",
     "output_type": "stream",
     "text": [
      "4321\n",
      "1234\n"
     ]
    }
   ],
   "source": [
    "n = int(input())\n",
    "reverse = 0\n",
    "while n > 0:\n",
    "    remainder = n % 10\n",
    "    reverse = reverse * 10 + remainder\n",
    "    n = n // 10\n",
    "print(reverse)"
   ]
  },
  {
   "cell_type": "markdown",
   "id": "492c7598",
   "metadata": {},
   "source": [
    "# Palindrom Number\n",
    "\n",
    "Problem statement\n",
    "Check whether a given number ’n’ is a palindrome number.\n",
    "\n",
    "Note :\n",
    "Palindrome numbers are the numbers that don't change when reversed.\n",
    "\n",
    "You don’t need to print anything. Just implement the given function.\n",
    "\n",
    "Example:\n",
    "Input: 'n' = 51415\n",
    "Output: true\n",
    "Explanation: On reversing, 51415 gives 51415."
   ]
  },
  {
   "cell_type": "code",
   "execution_count": 12,
   "id": "1734fd7e",
   "metadata": {},
   "outputs": [
    {
     "name": "stdout",
     "output_type": "stream",
     "text": [
      "123\n",
      "False\n"
     ]
    }
   ],
   "source": [
    "n = int(input())\n",
    "palindrom = n\n",
    "reverse = 0\n",
    "while n > 0:\n",
    "    remainder = n % 10\n",
    "    reverse = reverse * 10 + remainder\n",
    "    n = n // 10\n",
    "if palindrom == reverse :\n",
    "    print(\"True\")\n",
    "else:\n",
    "    print(\"False\")"
   ]
  },
  {
   "cell_type": "markdown",
   "id": "1d165bef",
   "metadata": {},
   "source": [
    "# Sum Of Even & Odd\n",
    "\n",
    "Problem statement\n",
    "Write a program to input an integer 'n' and print the sum of all its even digits and the sum of all its odd digits separately.\n",
    "\n",
    "\n",
    "\n",
    "Digits mean numbers, not places! That is, if the given integer is \"132456\", even digits are 2, 4, and 6, and odd digits are 1, 3, and 5.\n",
    "\n",
    "Constraints\n",
    "0<= 'n' <=10000\n",
    "\n",
    "\n",
    "Example :\n",
    "Input: 'n' = 132456\n",
    "\n",
    "Output: 12 9\n",
    "\n",
    "Explanation:\n",
    "The sum of even digits = 2 + 4 + 6 = 12\n",
    "The sum of odd digits = 1 + 3 + 5 = 9\n",
    "Constraints\n",
    "0<= 'n' <=10000\n",
    "\n",
    "\n",
    "Example :\n",
    "Input: 'n' = 132456\n",
    "\n",
    "Output: 12 9\n",
    "\n",
    "Explanation:\n",
    "The sum of even digits = 2 + 4 + 6 = 12\n",
    "The sum of odd digits = 1 + 3 + 5 = 9\n",
    "Input format :\n",
    " The first line contains an integer 'n'.\n",
    "Output format :\n",
    "In a single line, print two space-separated integers, first the sum of even digits and then the sum of odd digits."
   ]
  },
  {
   "cell_type": "code",
   "execution_count": 13,
   "id": "9f5ae68e",
   "metadata": {},
   "outputs": [
    {
     "name": "stdout",
     "output_type": "stream",
     "text": [
      "132456\n",
      "12 9\n"
     ]
    }
   ],
   "source": [
    "n = int(input())\n",
    "odd_sum = 0\n",
    "even_sum = 0\n",
    "while n > 0:\n",
    "    remainder = n % 10\n",
    "    if remainder % 2 == 0:\n",
    "        even_sum = even_sum + remainder\n",
    "    else:\n",
    "        odd_sum = odd_sum + remainder\n",
    "    n = n // 10 \n",
    "print(even_sum, odd_sum)"
   ]
  },
  {
   "cell_type": "markdown",
   "id": "b3105b48",
   "metadata": {},
   "source": [
    "# NTh Fibonacci\n",
    "\n",
    "Problem statement\n",
    "\n",
    "Write a program to find the Nth Fibonacci number using loops.\n",
    "\n",
    "\n",
    "\n",
    "Note :\n",
    "The Fibonacci series is a sequence of numbers in which each number is the sum of the two preceding ones, usually starting with first_number  and Second_number . \n",
    "\n",
    "\n",
    "First_number and Second_number in this question will be 1 . Soo that the resultant series will be 1, 1, 2, 3, 5, 8 ...\n",
    "\n",
    "\n",
    "Sample Input 1:\n",
    "\n",
    "6\n",
    "\n",
    "\n",
    "Sample Output 1:\n",
    "\n",
    "8\n",
    "\n",
    "Explanation\n",
    "\n",
    "The Fibonacci sequence starts with two numbers first number is 1 and second number is also 1. The subsequent numbers are found by adding the two preceding numbers.\n",
    "\n",
    "Therefore, the first six Fibonacci numbers are: 1, 1, 2, 3, 5, 8 . Hence, the 6th Fibonacci number is 8."
   ]
  },
  {
   "cell_type": "code",
   "execution_count": 16,
   "id": "4dc8a8ad",
   "metadata": {},
   "outputs": [
    {
     "name": "stdout",
     "output_type": "stream",
     "text": [
      "6\n",
      "8\n"
     ]
    }
   ],
   "source": [
    "n = int(input())\n",
    "i = 1\n",
    "a = 1\n",
    "b = 1\n",
    "while i < n:\n",
    "    c = a + b\n",
    "    a = b\n",
    "    b = c\n",
    "    i = i + 1\n",
    "print(a)"
   ]
  },
  {
   "cell_type": "markdown",
   "id": "90073081",
   "metadata": {},
   "source": [
    "# Pattern 1"
   ]
  },
  {
   "cell_type": "raw",
   "id": "7f0b16a4",
   "metadata": {},
   "source": [
    "Problem statement\n",
    "Print the following pattern for the given N number of rows.\n",
    "\n",
    "Pattern for N = 4\n",
    "4444\n",
    "4444\n",
    "4444\n",
    "4444"
   ]
  },
  {
   "cell_type": "code",
   "execution_count": 18,
   "id": "d7256083",
   "metadata": {},
   "outputs": [
    {
     "name": "stdout",
     "output_type": "stream",
     "text": [
      "4\n",
      "4444\n",
      "4444\n",
      "4444\n",
      "4444\n"
     ]
    }
   ],
   "source": [
    "n = int(input())\n",
    "i = 1\n",
    "while i <= n:\n",
    "    j = 1\n",
    "    while j <= n:\n",
    "        print(\"4\", end = \"\")\n",
    "        j = j + 1\n",
    "    print()\n",
    "    i = i + 1"
   ]
  },
  {
   "cell_type": "markdown",
   "id": "d8e92716",
   "metadata": {},
   "source": [
    "# Triangle Star Pattern"
   ]
  },
  {
   "cell_type": "raw",
   "id": "8bc1953b",
   "metadata": {},
   "source": [
    "Problem statement\n",
    "Print the following pattern for the given N number of rows.\n",
    "\n",
    "Pattern for N = 4\n",
    "*\n",
    "**\n",
    "***\n",
    "****\n",
    "Note : There are no spaces between the stars (*)."
   ]
  },
  {
   "cell_type": "code",
   "execution_count": 20,
   "id": "bfa08fcc",
   "metadata": {},
   "outputs": [
    {
     "name": "stdout",
     "output_type": "stream",
     "text": [
      "4\n",
      "*\n",
      "**\n",
      "***\n",
      "****\n"
     ]
    }
   ],
   "source": [
    "n = int(input())\n",
    "i = 1\n",
    "while i <= n:\n",
    "    j = 1\n",
    "    while j<=i:\n",
    "        print(\"*\", end = \"\")\n",
    "        j = j + 1\n",
    "    print()\n",
    "    \n",
    "    i = i + 1"
   ]
  },
  {
   "cell_type": "markdown",
   "id": "d0bcd616",
   "metadata": {},
   "source": [
    "# Triangle Number Pattern"
   ]
  },
  {
   "cell_type": "raw",
   "id": "c1edd84b",
   "metadata": {},
   "source": [
    "Problem statement\n",
    "Print the following pattern for the given N number of rows.\n",
    "\n",
    "Pattern for N = 4\n",
    "1\n",
    "22\n",
    "333\n",
    "4444"
   ]
  },
  {
   "cell_type": "code",
   "execution_count": 21,
   "id": "ba79ae67",
   "metadata": {},
   "outputs": [
    {
     "name": "stdout",
     "output_type": "stream",
     "text": [
      "4\n",
      "1\n",
      "22\n",
      "333\n",
      "4444\n"
     ]
    }
   ],
   "source": [
    "n = int(input())\n",
    "i = 1\n",
    "while i <= n:\n",
    "    j = 1\n",
    "    while j <= i:\n",
    "        print(i, end = \"\")\n",
    "        j = j + 1\n",
    "    print()\n",
    "    \n",
    "    i = i + 1"
   ]
  },
  {
   "cell_type": "markdown",
   "id": "ea224eb2",
   "metadata": {},
   "source": [
    "# Reverse Number Pattern"
   ]
  },
  {
   "cell_type": "raw",
   "id": "c2de25b1",
   "metadata": {},
   "source": [
    "Problem statement\n",
    "Print the following pattern for the given N number of rows.\n",
    "\n",
    "Pattern for N = 4\n",
    "1\n",
    "21\n",
    "321\n",
    "4321"
   ]
  },
  {
   "cell_type": "code",
   "execution_count": 23,
   "id": "01654361",
   "metadata": {},
   "outputs": [
    {
     "name": "stdout",
     "output_type": "stream",
     "text": [
      "4\n",
      "1\n",
      "21\n",
      "321\n",
      "4321\n"
     ]
    }
   ],
   "source": [
    "n = int(input())\n",
    "i = 1\n",
    "while i <= n:\n",
    "    j = 1\n",
    "    while j <= i:\n",
    "        print(i - j + 1, end = \"\")\n",
    "        j = j + 1\n",
    "    print()\n",
    "    i = i + 1"
   ]
  },
  {
   "cell_type": "markdown",
   "id": "32ff54c2",
   "metadata": {},
   "source": [
    "# Number Pattern 1"
   ]
  },
  {
   "cell_type": "raw",
   "id": "20124e2a",
   "metadata": {},
   "source": [
    "Problem statement\n",
    "Print the following pattern for the given N number of rows.\n",
    "\n",
    "Pattern for N = 4\n",
    "1\n",
    "11\n",
    "111\n",
    "1111"
   ]
  },
  {
   "cell_type": "code",
   "execution_count": 24,
   "id": "cc3f3bb3",
   "metadata": {},
   "outputs": [
    {
     "name": "stdout",
     "output_type": "stream",
     "text": [
      "4\n",
      "1\n",
      "11\n",
      "111\n",
      "1111\n"
     ]
    }
   ],
   "source": [
    "n = int(input())\n",
    "i = 1\n",
    "while i <= n:\n",
    "    j = 1\n",
    "    while j <= i:\n",
    "        print(1, end = \"\")\n",
    "        j = j + 1\n",
    "    print()\n",
    "    \n",
    "    i = i + 1"
   ]
  },
  {
   "cell_type": "markdown",
   "id": "125ba4cb",
   "metadata": {},
   "source": [
    "# Number Pattern 2"
   ]
  },
  {
   "cell_type": "raw",
   "id": "a3a66b24",
   "metadata": {},
   "source": [
    "Problem statement\n",
    "Print the following pattern for the given N number of rows.\n",
    "\n",
    "Pattern for N = 4\n",
    "1\n",
    "11\n",
    "202\n",
    "3003"
   ]
  },
  {
   "cell_type": "code",
   "execution_count": 39,
   "id": "cb8be0e5",
   "metadata": {},
   "outputs": [
    {
     "name": "stdout",
     "output_type": "stream",
     "text": [
      "4\n",
      "1\n",
      "11\n",
      "202\n",
      "3003\n"
     ]
    }
   ],
   "source": [
    "\n",
    "n = int(input())\n",
    "print(1)\n",
    "i = 1\n",
    "while i < n:\n",
    "    j = 0\n",
    "    while j <= i:\n",
    "        if i == j or j == 0:\n",
    "            print(i, end = \"\")\n",
    "        else:\n",
    "            print(0, end = \"\")\n",
    "        j = j + 1\n",
    "    print()\n",
    "    i = i + 1"
   ]
  },
  {
   "cell_type": "markdown",
   "id": "b45f4d62",
   "metadata": {},
   "source": [
    "# Number Pattern 3"
   ]
  },
  {
   "cell_type": "raw",
   "id": "881943c8",
   "metadata": {},
   "source": [
    "Problem statement\n",
    "Print the following pattern for the given N number of rows.\n",
    "\n",
    "Pattern for N = 4\n",
    "1\n",
    "11\n",
    "121\n",
    "1221\n"
   ]
  },
  {
   "cell_type": "code",
   "execution_count": 42,
   "id": "72342bc7",
   "metadata": {},
   "outputs": [
    {
     "name": "stdout",
     "output_type": "stream",
     "text": [
      "4\n",
      "1\n",
      "11\n",
      "121\n",
      "1221\n"
     ]
    }
   ],
   "source": [
    "n = int(input())\n",
    "print(1)\n",
    "i = 1\n",
    "while i < n:\n",
    "    j = 0\n",
    "    while j <= i:\n",
    "        if j == 0 or i == j:\n",
    "            print(1, end = \"\")\n",
    "        else:\n",
    "            print(2, end = \"\")\n",
    "        j = j + 1\n",
    "    print()\n",
    "    \n",
    "    i = i + 1"
   ]
  },
  {
   "cell_type": "markdown",
   "id": "235369b0",
   "metadata": {},
   "source": [
    "# Number Pattern"
   ]
  },
  {
   "cell_type": "raw",
   "id": "9d518303",
   "metadata": {},
   "source": [
    "Problem statement\n",
    "Print the following pattern for the given N number of rows.\n",
    "\n",
    "Pattern for N = 4\n",
    "1234\n",
    "123\n",
    "12\n",
    "1"
   ]
  },
  {
   "cell_type": "code",
   "execution_count": 43,
   "id": "23fd4524",
   "metadata": {},
   "outputs": [
    {
     "name": "stdout",
     "output_type": "stream",
     "text": [
      "4\n",
      "1234\n",
      "123\n",
      "12\n",
      "1\n"
     ]
    }
   ],
   "source": [
    "n = int(input())\n",
    "i = 1\n",
    "while i <= n:\n",
    "    j = 1\n",
    "    while j <= n - i + 1:\n",
    "        print(j, end = \"\")\n",
    "        j = j + 1\n",
    "    print()\n",
    "    \n",
    "    i = i + 1"
   ]
  },
  {
   "cell_type": "markdown",
   "id": "515b84d9",
   "metadata": {},
   "source": [
    "# Pattern 2"
   ]
  },
  {
   "cell_type": "markdown",
   "id": "150e217e",
   "metadata": {},
   "source": [
    "# Inverted Number Pattern"
   ]
  },
  {
   "cell_type": "raw",
   "id": "57db7cbb",
   "metadata": {},
   "source": [
    "Problem statement\n",
    "Print the following pattern for the given N number of rows.\n",
    "\n",
    "Pattern for N = 4\n",
    "4444\n",
    "333\n",
    "22\n",
    "1"
   ]
  },
  {
   "cell_type": "code",
   "execution_count": 47,
   "id": "155d1f69",
   "metadata": {},
   "outputs": [
    {
     "name": "stdout",
     "output_type": "stream",
     "text": [
      "4\n",
      "4444\n",
      "333\n",
      "22\n",
      "1\n"
     ]
    }
   ],
   "source": [
    "n = int(input())\n",
    "i = 1\n",
    "while i <= n:\n",
    "    j = 1\n",
    "    while j <= n - i + 1:\n",
    "        print(n - i + 1, end = \"\")\n",
    "        j = j + 1\n",
    "    print()\n",
    "    \n",
    "    i = i + 1"
   ]
  },
  {
   "cell_type": "markdown",
   "id": "b104a3e5",
   "metadata": {},
   "source": [
    "# Mirror Number Pattern"
   ]
  },
  {
   "cell_type": "raw",
   "id": "95ac66d2",
   "metadata": {},
   "source": [
    "Problem statement\n",
    "Print the following pattern for the given N number of rows.\n",
    "\n",
    "Pattern for N = 4\n",
    "\n",
    "...1\n",
    "..12\n",
    ".123\n",
    "1234\n",
    "\n",
    "The dots represent spaces.\n"
   ]
  },
  {
   "cell_type": "code",
   "execution_count": 48,
   "id": "16b6cdd1",
   "metadata": {},
   "outputs": [
    {
     "name": "stdout",
     "output_type": "stream",
     "text": [
      "4\n",
      "   1\n",
      "  12\n",
      " 123\n",
      "1234\n"
     ]
    }
   ],
   "source": [
    "n = int(input())\n",
    "i = 1\n",
    "while i <= n:\n",
    "    space = 1\n",
    "    while space <= n - i:\n",
    "        print(\" \", end = \"\")\n",
    "        space = space + 1\n",
    "    j = 1\n",
    "    while j <= i:\n",
    "        print(j, end = \"\")\n",
    "        j = j + 1\n",
    "    print()\n",
    "    \n",
    "    i = i + 1"
   ]
  },
  {
   "cell_type": "markdown",
   "id": "d4510573",
   "metadata": {},
   "source": [
    "# Star Pattern"
   ]
  },
  {
   "cell_type": "raw",
   "id": "87b74435",
   "metadata": {},
   "source": [
    "Problem statement\n",
    "Print the following pattern\n",
    "\n",
    "Pattern for N = 4\n",
    "\n",
    "...*\n",
    "..***\n",
    ".*****\n",
    "*******\n",
    "\n",
    "\n",
    "Hint\n",
    "As taught in the video, you just have to modify the code so that instead of printing numbers, it should output stars ('*').\n",
    "The dots represent spaces."
   ]
  },
  {
   "cell_type": "code",
   "execution_count": 60,
   "id": "6610f358",
   "metadata": {
    "scrolled": true
   },
   "outputs": [
    {
     "name": "stdout",
     "output_type": "stream",
     "text": [
      "4\n",
      "...*\n",
      "..***\n",
      ".*****\n",
      "*******\n"
     ]
    }
   ],
   "source": [
    "n = int(input())\n",
    "i = 1\n",
    "while i <= n:\n",
    "    space = 1\n",
    "    while space <= n - i :\n",
    "        print(\".\", end = \"\")\n",
    "        space = space + 1\n",
    "    j = 1\n",
    "    while j <= i*2 - 1:\n",
    "        print(\"*\", end = \"\")\n",
    "        j = j + 1\n",
    "    print()\n",
    "    \n",
    "    i = i + 1"
   ]
  },
  {
   "cell_type": "code",
   "execution_count": 66,
   "id": "073f4fc7",
   "metadata": {},
   "outputs": [
    {
     "name": "stdout",
     "output_type": "stream",
     "text": [
      "4\n",
      "   *\n",
      "  ***\n",
      " *****\n",
      "*******\n"
     ]
    }
   ],
   "source": [
    "n = int(input())\n",
    "for i in range(1, n + 1):\n",
    "    for space in range(n - i ):\n",
    "        print(\" \", end = \"\")\n",
    "    for j in range( i *2 - 1):\n",
    "        print(\"*\", end = \"\")\n",
    "    print()"
   ]
  },
  {
   "cell_type": "code",
   "execution_count": 56,
   "id": "7c50e512",
   "metadata": {},
   "outputs": [
    {
     "name": "stdout",
     "output_type": "stream",
     "text": [
      "4\n",
      "   *\n",
      "  ***\n",
      " *****\n",
      "*******\n"
     ]
    }
   ],
   "source": [
    "n = int(input())\n",
    "i = 1\n",
    "while i <= n:\n",
    "    space = 1\n",
    "    while space <= n - i:\n",
    "        print(\" \", end = \"\")\n",
    "        space = space + 1\n",
    "    j = 1\n",
    "    while j <= i:\n",
    "        print(\"*\", end = \"\")\n",
    "        j = j + 1\n",
    "        \n",
    "    p = i - 1\n",
    "    while p >= 1:\n",
    "        print(\"*\", end = \"\")\n",
    "        p = p - 1\n",
    "    print()\n",
    "    \n",
    "    i = i + 1"
   ]
  },
  {
   "cell_type": "markdown",
   "id": "f4fe2755",
   "metadata": {},
   "source": [
    "# Pattern Triangle Of Number\n"
   ]
  },
  {
   "cell_type": "raw",
   "id": "fe95f511",
   "metadata": {},
   "source": [
    "Problem statement\n",
    "Print the following pattern for the given number of rows.\n",
    "\n",
    "Pattern for N = 4\n",
    "...1\n",
    "..232\n",
    ".34543\n",
    "4567654\n",
    "\n",
    "The dots represent spaces."
   ]
  },
  {
   "cell_type": "code",
   "execution_count": 8,
   "id": "42a74adf",
   "metadata": {},
   "outputs": [
    {
     "name": "stdin",
     "output_type": "stream",
     "text": [
      " 4\n"
     ]
    },
    {
     "name": "stdout",
     "output_type": "stream",
     "text": [
      "   1\n",
      "  232\n",
      " 34543\n",
      "4567654\n"
     ]
    }
   ],
   "source": [
    "n = int(input())\n",
    "i = 1\n",
    "\n",
    "while i <= n:\n",
    "    space = 1\n",
    "    while space <= n - i:\n",
    "        print(\" \", end = \"\")\n",
    "        space = space + 1\n",
    "    j = 1\n",
    "    p = i\n",
    "    while j <= i:\n",
    "        print(p , end = \"\")\n",
    "        j = j + 1\n",
    "        p = p + 1\n",
    "        \n",
    "    p = 2*i - 2\n",
    "    while p >= i:\n",
    "        print(p, end = \"\")\n",
    "        p = p - 1\n",
    "    print()\n",
    "    i = i + 1"
   ]
  },
  {
   "cell_type": "markdown",
   "id": "04e396dc",
   "metadata": {},
   "source": [
    "# Diamond Of Stars\n"
   ]
  },
  {
   "cell_type": "raw",
   "id": "e8f22054",
   "metadata": {},
   "source": [
    "Problem statement\n",
    "Print the following pattern for the given number of rows.\n",
    "\n",
    "Note: N is always odd.\n",
    "\n",
    "..*\n",
    ".***\n",
    "*****\n",
    ".***\n",
    "..*\n",
    "\n",
    "Pattern for N = 5"
   ]
  },
  {
   "cell_type": "code",
   "execution_count": 19,
   "id": "bdee65e9-a91d-483c-99b3-9db0ad23cfff",
   "metadata": {},
   "outputs": [
    {
     "name": "stdin",
     "output_type": "stream",
     "text": [
      " 5\n"
     ]
    },
    {
     "name": "stdout",
     "output_type": "stream",
     "text": [
      "  *\n",
      " ***\n",
      "*****\n",
      " ***\n",
      "  *\n"
     ]
    }
   ],
   "source": [
    "n = int(input())\n",
    "if n % 2 != 0:\n",
    "    n1 = (n + 1 )//2\n",
    "    n2 = n // 2\n",
    "    i = 1\n",
    "    while i <= n1:\n",
    "        space = 1\n",
    "        while space <= n1 - i:\n",
    "            print(\" \", end = \"\")\n",
    "            space = space + 1\n",
    "        j = 1\n",
    "        while j <= 2*i - 1:\n",
    "            print(\"*\", end = \"\")\n",
    "            j = j + 1\n",
    "        print()\n",
    "        i = i + 1\n",
    "    i = n2\n",
    "    while i >= 1:\n",
    "        space = 1\n",
    "        while space <= n2 - i + 1:\n",
    "            print(\" \", end = \"\")\n",
    "            space = space + 1\n",
    "        j = 1\n",
    "        while j <= 2*i - 1:\n",
    "            print(\"*\", end = \"\")\n",
    "            j = j + 1\n",
    "\n",
    "        print()\n",
    "\n",
    "        i = i - 1\n"
   ]
  },
  {
   "cell_type": "markdown",
   "id": "97a0a5ca",
   "metadata": {},
   "source": [
    "# Number Pattern\n"
   ]
  },
  {
   "cell_type": "raw",
   "id": "e6434718",
   "metadata": {},
   "source": [
    "Problem statement\n",
    "Print the following pattern for n number of rows.\n",
    "\n",
    "Note: each line consist of equal number of characters + spaces. Suppose you are printing xth line for N=n. You need to print 1..x followed by (n-x) spaces, again (n-x) spaces followed by x..1\n",
    "\n",
    "1........1\n",
    "12......21\n",
    "123....321\n",
    "1234..4321\n",
    "1234554321"
   ]
  },
  {
   "cell_type": "code",
   "execution_count": 24,
   "id": "1571940a-8e49-47b1-952a-c5de144634cb",
   "metadata": {},
   "outputs": [
    {
     "name": "stdin",
     "output_type": "stream",
     "text": [
      " 5\n"
     ]
    },
    {
     "name": "stdout",
     "output_type": "stream",
     "text": [
      "1........1\n",
      "12......21\n",
      "123....321\n",
      "1234..4321\n",
      "1234554321\n"
     ]
    }
   ],
   "source": [
    "n = int(input())\n",
    "i = 1\n",
    "while i <= n:\n",
    "    j = 1\n",
    "    while j <= i:\n",
    "        print(j, end = \"\")\n",
    "        j = j + 1\n",
    "    space = 1\n",
    "    while space <= 2* n  - 2* i:\n",
    "        print(\".\", end = \"\")\n",
    "        space = space + 1\n",
    "    j = 1\n",
    "    while j <= i:\n",
    "        print(i - j + 1, end = \"\")\n",
    "        j = j + 1\n",
    "        \n",
    "    print()\n",
    "    i = i + 1"
   ]
  },
  {
   "cell_type": "markdown",
   "id": "8c13219b",
   "metadata": {},
   "source": [
    "# Pyramid Number Pattern "
   ]
  },
  {
   "cell_type": "raw",
   "id": "9338fbda",
   "metadata": {},
   "source": [
    "Problem statement\n",
    "Print the following pattern for the given number of rows.\n",
    "\n",
    "Pattern for N = 4\n",
    "   1\n",
    "  212\n",
    " 32123\n",
    "4321234\n",
    "Input format : N (Total no. of rows)\n",
    "\n",
    "Output format : Pattern in N lines"
   ]
  },
  {
   "cell_type": "code",
   "execution_count": 37,
   "id": "06abec12-05b4-4f55-87e7-aa0e8aecad91",
   "metadata": {},
   "outputs": [
    {
     "name": "stdin",
     "output_type": "stream",
     "text": [
      " 4\n"
     ]
    },
    {
     "name": "stdout",
     "output_type": "stream",
     "text": [
      "   1\n",
      "  212\n",
      " 32123\n",
      "4321234\n"
     ]
    }
   ],
   "source": [
    "n = int(input())\n",
    "i = 1\n",
    "while i <= n:\n",
    "    space = 1\n",
    "    while space <= n - i:\n",
    "        print(\" \", end = \"\")\n",
    "        space = space + 1\n",
    "    j = 1\n",
    "    while j <= i:\n",
    "        print(i - j + 1, end = \"\")\n",
    "        j = j + 1\n",
    "    k = 2\n",
    "    p = 2 * i - 2\n",
    "    while p >= i:\n",
    "        print(k, end = \"\")\n",
    "        k = k + 1\n",
    "        p = p - 1\n",
    "    print()\n",
    "\n",
    "    i = i + 1"
   ]
  },
  {
   "cell_type": "markdown",
   "id": "1553055b",
   "metadata": {},
   "source": [
    "# Arrow Pattern"
   ]
  },
  {
   "cell_type": "raw",
   "id": "69806198",
   "metadata": {},
   "source": [
    "Problem statement\n",
    "Print the following pattern for the given number of rows.\n",
    "\n",
    "Assume N is always odd.\n",
    "\n",
    "Note : There is space after every star. Pattern for N = 7\n",
    "*\n",
    " * *\n",
    "   * * *\n",
    "     * * * *\n",
    "   * * *\n",
    " * *\n",
    "*"
   ]
  },
  {
   "cell_type": "code",
   "execution_count": 54,
   "id": "32558aa8-29f9-4f62-8c19-7e6edf7f5776",
   "metadata": {},
   "outputs": [
    {
     "name": "stdin",
     "output_type": "stream",
     "text": [
      " 7\n"
     ]
    },
    {
     "name": "stdout",
     "output_type": "stream",
     "text": [
      "* \n",
      "  * * \n",
      "    * * * \n",
      "      * * * * \n",
      "    * * * \n",
      "  * * \n",
      "* \n"
     ]
    }
   ],
   "source": [
    "n = int(input())\n",
    "if n % 2 != 0:\n",
    "    n1 = (n + 1) // 2\n",
    "    n2 = n // 2\n",
    "\n",
    "    # Upper half of the diamond\n",
    "    i = 1\n",
    "    while i <= n1:\n",
    "        space = 1\n",
    "        while space <= i - 1:\n",
    "            print(\" \", end=\" \")\n",
    "            space = space + 1\n",
    "\n",
    "        j = 1\n",
    "        while j <= i:\n",
    "            print(\"*\", end=\" \")\n",
    "            j = j + 1\n",
    "\n",
    "        print()\n",
    "        i = i + 1\n",
    "\n",
    "    # Lower half of the diamond\n",
    "i = 1\n",
    "while i <= n2:\n",
    "    space = 1\n",
    "    while space <= (n2 - i)  :\n",
    "        print(\" \", end=\" \")\n",
    "        space = space + 1\n",
    "\n",
    "    j = 1\n",
    "    while j <= (n2 - i + 1) :\n",
    "        print(\"*\", end=\" \")\n",
    "        j = j + 1\n",
    "\n",
    "    print()\n",
    "    i = i + 1\n"
   ]
  },
  {
   "cell_type": "markdown",
   "id": "f2179d52",
   "metadata": {},
   "source": [
    "# More On Loops"
   ]
  },
  {
   "cell_type": "markdown",
   "id": "88097c38",
   "metadata": {},
   "source": [
    "# Binary Pattern"
   ]
  },
  {
   "cell_type": "raw",
   "id": "25b8a85f",
   "metadata": {},
   "source": [
    "Problem statement\n",
    "Print the following pattern for the given number of rows.\n",
    "\n",
    "Pattern for N = 4\n",
    "1111\n",
    "000\n",
    "11\n",
    "0\n",
    "Input format : N (Total no. of rows)\n",
    "\n",
    "Output format : Pattern in N lines"
   ]
  },
  {
   "cell_type": "code",
   "execution_count": 3,
   "id": "97b9234d-1f0d-4fec-89a5-121111187695",
   "metadata": {},
   "outputs": [
    {
     "name": "stdin",
     "output_type": "stream",
     "text": [
      " 4\n"
     ]
    },
    {
     "name": "stdout",
     "output_type": "stream",
     "text": [
      "1111\n",
      "000\n",
      "11\n",
      "0\n"
     ]
    }
   ],
   "source": [
    "n = int(input())\n",
    "i = 1\n",
    "while i <= n:\n",
    "    j = 1\n",
    "    while j <= n - i + 1:\n",
    "        if i % 2 == 0:\n",
    "            print(\"0\", end = \"\")\n",
    "        else:\n",
    "            print(\"1\", end = \"\")\n",
    "        j = j + 1\n",
    "    print()\n",
    "\n",
    "    i = i + 1"
   ]
  },
  {
   "cell_type": "markdown",
   "id": "1e0969bb",
   "metadata": {},
   "source": [
    "# Print Number Pyramid"
   ]
  },
  {
   "cell_type": "raw",
   "id": "2bbed973",
   "metadata": {},
   "source": [
    "Problem statement\n",
    "Print the following pattern for a given n.\n",
    "\n",
    "For eg. N = 6\n",
    "123456\n",
    " 23456\n",
    "  3456\n",
    "   456\n",
    "    56\n",
    "     6\n",
    "    56\n",
    "   456\n",
    "  3456\n",
    " 23456\n",
    "123456"
   ]
  },
  {
   "cell_type": "markdown",
   "id": "32ffdaa3-7b30-4dd2-b813-24d7d872f309",
   "metadata": {},
   "source": [
    "# Functions"
   ]
  },
  {
   "cell_type": "markdown",
   "id": "0df251d7-cebb-4823-8077-8c812f8b6d91",
   "metadata": {},
   "source": [
    "# Fahrenheit To Celcius Function\n"
   ]
  },
  {
   "cell_type": "raw",
   "id": "fad2a4aa-4e37-4fc6-b08d-a107cfa9d89c",
   "metadata": {},
   "source": [
    "Problem statement\n",
    "Given three values - Start Fahrenheit Value (S), End Fahrenheit value (E) and Step Size (W), you need to convert all Fahrenheit values from Start to End at the gap of W, into their corresponding Celsius values and print the table.\n",
    "\n",
    "\n",
    "\n",
    "Note:\n",
    "You don't have to write the main function or take input. It has already been taken care of and you need to just print the integer value . Just write the code that prints Fahrenheit to Celsius table in the function itself.\n",
    "Formula is C = (F - 32) * 5/9\n",
    "\n",
    "Sample Input 1:\n",
    "0 \n",
    "100 \n",
    "20\n",
    "\n",
    "Sample Output 1:\n",
    "0   -17\n",
    "20  -6\n",
    "40  4\n",
    "60  15\n",
    "80  26\n",
    "100 37\n",
    "\n",
    "Sample Input 2:\n",
    "120 \n",
    "200 \n",
    "40\n",
    "\n",
    "Sample Output 2:\n",
    "120 48\n",
    "160 71\n",
    "200 93\n",
    "\n",
    "Explanation for Sample Output 2 :\n",
    "Start value is 120, end value is 200 and step size is 40. Therefore, the values we need to convert are 120, 120 + 40 = 160, and 160 + 40 = 200. \n",
    "The formula for converting Fahrenheit to Celsius is:\n",
    "Celsius Value = (5/9)*(Fahrenheit Value - 32)  \n",
    "Plugging 120 into the formula, the celsius value will be (5 / 9)*(120 - 32) => (5 / 9) * 88 => (5 * 88) / 9 => 440 / 9 => 48.88\n",
    "But we'll only print 48 because we are only interested in the integral part of the value."
   ]
  },
  {
   "cell_type": "code",
   "execution_count": 61,
   "id": "8d6318ba-8f5f-48cb-b498-c638cb7e7ace",
   "metadata": {},
   "outputs": [
    {
     "name": "stdin",
     "output_type": "stream",
     "text": [
      " 0\n",
      " 100\n",
      " 20\n"
     ]
    },
    {
     "name": "stdout",
     "output_type": "stream",
     "text": [
      "0 \t -17\n",
      "20 \t -6\n",
      "40 \t 4\n",
      "60 \t 15\n",
      "80 \t 26\n",
      "100 \t 37\n"
     ]
    }
   ],
   "source": [
    "def temp_covert(start, end, step ):\n",
    "    f = start\n",
    "    while f <= end:\n",
    "        c = (5/9) * (f - 32)\n",
    "        print(f, \"\\t\", int(c))\n",
    "        f = f + step\n",
    "        \n",
    "start = int(input())\n",
    "end = int(input())\n",
    "step = int(input())\n",
    "temp_covert(start, end, step)\n"
   ]
  },
  {
   "cell_type": "code",
   "execution_count": 62,
   "id": "adedd663-83c5-43a0-a900-feafda208e11",
   "metadata": {},
   "outputs": [
    {
     "name": "stdin",
     "output_type": "stream",
     "text": [
      "Enter start temperature (F):  0\n",
      "Enter end temperature (F):  100\n",
      "Enter step value:  20\n"
     ]
    },
    {
     "name": "stdout",
     "output_type": "stream",
     "text": [
      "0 \t -17\n",
      "20 \t -6\n",
      "40 \t 4\n",
      "60 \t 15\n",
      "80 \t 26\n",
      "100 \t 37\n"
     ]
    }
   ],
   "source": [
    "def temp_covert(start, end, step):\n",
    "    results = []\n",
    "    f = start\n",
    "    while f <= end:\n",
    "        c = (5/9) * (f - 32)\n",
    "        results.append((f, int(c)))\n",
    "        f = f + step\n",
    "    return results\n",
    "\n",
    "start = int(input(\"Enter start temperature (F): \"))\n",
    "end = int(input(\"Enter end temperature (F): \"))\n",
    "step = int(input(\"Enter step value: \"))\n",
    "a = temp_covert(start, end, step)\n",
    "for f, c in a:\n",
    "    print(f, \"\\t\", c)"
   ]
  },
  {
   "cell_type": "markdown",
   "id": "53f918da-d568-4066-aed9-43accc072615",
   "metadata": {},
   "source": [
    "# Fibonacci Member"
   ]
  },
  {
   "cell_type": "raw",
   "id": "ce338630-0a5f-4a95-9f2d-17c3dbf97c61",
   "metadata": {},
   "source": [
    "Problem statement\n",
    "Create a function that determines whether a given number N belongs to the Fibonacci sequence. If N is found in the Fibonacci sequence, the function should return true; otherwise, it should return false."
   ]
  },
  {
   "cell_type": "code",
   "execution_count": 72,
   "id": "9a920a75-475b-47bb-b232-97b2437d0c2f",
   "metadata": {},
   "outputs": [
    {
     "name": "stdin",
     "output_type": "stream",
     "text": [
      " 5\n"
     ]
    },
    {
     "name": "stdout",
     "output_type": "stream",
     "text": [
      "true\n"
     ]
    }
   ],
   "source": [
    "def fibonacci(n):\n",
    "    a = 0\n",
    "    b = 1\n",
    "    while a < n:\n",
    "        a, b = b, a+ b\n",
    "    return a == n\n",
    "n2 = int(input())\n",
    "\n",
    "if fibonacci(n2):\n",
    "    print(\"true\")\n",
    "else:\n",
    "    print(\"false\")"
   ]
  },
  {
   "cell_type": "markdown",
   "id": "40ae4f38-1ea3-42e8-b1e3-fa347daf8ae0",
   "metadata": {},
   "source": [
    "# Palindrom Number"
   ]
  },
  {
   "cell_type": "raw",
   "id": "efbed5f7-9ec3-4303-98c4-6ac378ff9a0d",
   "metadata": {},
   "source": [
    "Problem statement\n",
    "Check whether a given number ’n’ is a palindrome number.\n",
    "\n",
    "Note :\n",
    "Palindrome numbers are the numbers that don't change when reversed.\n",
    "You don’t need to print anything. Just implement the given function.\n",
    "Example:\n",
    "Input: 'n' = 51415\n",
    "Output: true\n",
    "Explanation: On reversing, 51415 gives 51415.\n"
   ]
  },
  {
   "cell_type": "code",
   "execution_count": 74,
   "id": "921264ad-12ab-4153-a352-d7451509f96b",
   "metadata": {},
   "outputs": [
    {
     "name": "stdin",
     "output_type": "stream",
     "text": [
      " 51415\n"
     ]
    },
    {
     "name": "stdout",
     "output_type": "stream",
     "text": [
      "true\n"
     ]
    }
   ],
   "source": [
    "def is_palindrom(n):\n",
    "    reverse = 0\n",
    "    palindrom = n\n",
    "    while n > 0:\n",
    "        remainder = n % 10\n",
    "        reverse = reverse * 10 + remainder\n",
    "        n = n// 10\n",
    "    if palindrom == reverse:\n",
    "        return True\n",
    "    return False\n",
    "n = int(input())\n",
    "if is_palindrom(n):\n",
    "    print(\"true\")\n",
    "else:\n",
    "    print(\"false\")"
   ]
  },
  {
   "cell_type": "markdown",
   "id": "66736d38-cde2-4bfd-979d-9a7968e29dae",
   "metadata": {},
   "source": [
    "# Check Armstrong"
   ]
  },
  {
   "cell_type": "raw",
   "id": "36721550-17a8-40e3-a1af-fd801d92a05b",
   "metadata": {},
   "source": [
    "Problem statement\n",
    "You are given an integer 'n'. Return 'true' if 'n' is an Armstrong number, and 'false' otherwise.\n",
    "\n",
    "\n",
    "An Armstrong number is a number (with 'k' digits) such that the sum of its digits raised to 'kth' power is equal to the number itself. For example, 371 is an Armstrong number because 3^3 + 7^3 + 1^3 = 371.\n",
    "\n",
    "Problem statement\n",
    "You are given an integer 'n'. Return 'true' if 'n' is an Armstrong number, and 'false' otherwise.\n",
    "\n",
    "\n",
    "An Armstrong number is a number (with 'k' digits) such that the sum of its digits raised to 'kth' power is equal to the number itself. For example, 371 is an Armstrong number because 3^3 + 7^3 + 1^3 = 371.\n",
    "\n",
    "Detailed explanation ( Input/output format, Notes, Images )\n",
    "Input Format :\n",
    "The first line of the input contains an integer 'n'.\n",
    "\n",
    "\n",
    "Output Format :\n",
    "Return 'true' or 'false' as mentioned in the problem statement.\n",
    "\n",
    "\n",
    "Note\n",
    "You don't need to print anything, just implement the given function. \"true\" will be printed if the returned value is a boolean 'true' and \"false\" otherwise."
   ]
  },
  {
   "cell_type": "code",
   "execution_count": 106,
   "id": "f22d0dae-9737-4ff0-a31d-64c909e436e6",
   "metadata": {},
   "outputs": [
    {
     "name": "stdin",
     "output_type": "stream",
     "text": [
      " 4321\n"
     ]
    },
    {
     "name": "stdout",
     "output_type": "stream",
     "text": [
      "The length of the number is: 4\n"
     ]
    }
   ],
   "source": [
    "number = int(input())# The number whose length we want to find\n",
    "counter = 0  # Initialize the counter to 0\n",
    "\n",
    "while number > 0:  # Continue the loop while the number is greater than 0\n",
    "    number = number // 10  # Divide the number by 10\n",
    "    counter += 1  # Increment the counter\n",
    "\n",
    "print(\"The length of the number is:\", counter)"
   ]
  },
  {
   "cell_type": "code",
   "execution_count": 121,
   "id": "22acb15e-ea52-446d-84cf-8e282c2ffbcb",
   "metadata": {},
   "outputs": [
    {
     "name": "stdin",
     "output_type": "stream",
     "text": [
      " 32423423\n"
     ]
    },
    {
     "name": "stdout",
     "output_type": "stream",
     "text": [
      "8\n"
     ]
    }
   ],
   "source": [
    "n = int(input())\n",
    "\n",
    "counter = 0 \n",
    "while n > 0 :\n",
    "    n = n // 10\n",
    "    counter = counter + 1\n",
    "print(counter)"
   ]
  },
  {
   "cell_type": "code",
   "execution_count": 127,
   "id": "99ce160a-e897-426a-8a0f-70d4043e1791",
   "metadata": {},
   "outputs": [
    {
     "name": "stdout",
     "output_type": "stream",
     "text": [
      "True\n"
     ]
    }
   ],
   "source": [
    "def is_armstrong(n):\n",
    "    original_number = n\n",
    "    sum_of_powers = 0\n",
    "\n",
    "    # Calculate the number of digits\n",
    "    temp_number = n\n",
    "    number_of_digits = 0\n",
    "    while temp_number > 0:\n",
    "        temp_number = temp_number // 10\n",
    "        number_of_digits += 1\n",
    "\n",
    "    # Calculate the sum of the powers of its digits\n",
    "    temp_number = n\n",
    "    while temp_number > 0:\n",
    "        remainder = temp_number % 10\n",
    "        sum_of_powers += remainder ** number_of_digits\n",
    "        temp_number = temp_number // 10\n",
    "\n",
    "    # Check if the sum of powers is equal to the original number\n",
    "    if original_number == sum_of_powers:\n",
    "        return True\n",
    "    return False\n",
    "print(is_armstrong(371))  # True\n"
   ]
  },
  {
   "cell_type": "code",
   "execution_count": 128,
   "id": "b3f026a5-2fd3-470d-8b96-bc246218c96d",
   "metadata": {},
   "outputs": [
    {
     "name": "stdin",
     "output_type": "stream",
     "text": [
      " 371\n"
     ]
    },
    {
     "name": "stdout",
     "output_type": "stream",
     "text": [
      "true\n"
     ]
    }
   ],
   "source": [
    "## Read input as specified in the question.\n",
    "## Print output as specified in the question.\n",
    "def armstrong(n):\n",
    "    d = 0\n",
    "    temp = n\n",
    "    while temp > 0:\n",
    "        temp = temp // 10\n",
    "        d = d + 1\n",
    "    arm = 0\n",
    "    while n > 0:\n",
    "        rem = n % 10\n",
    "        arm = arm + rem ** d \n",
    "        n = n // 10\n",
    "    return arm\n",
    "\n",
    "n = int(input())\n",
    "temp = n\n",
    "x = armstrong(n)\n",
    "if temp == x:\n",
    "    print(\"true\")\n",
    "else:\n",
    "    print(\"false\")\n"
   ]
  },
  {
   "cell_type": "markdown",
   "id": "7790ff0e-31ff-4b8d-a150-06b012904c38",
   "metadata": {},
   "source": [
    "# Array And Lists"
   ]
  },
  {
   "cell_type": "markdown",
   "id": "3f1eddf2-7180-4e88-ac73-27a2db5055b6",
   "metadata": {},
   "source": [
    "# Print Array Sum"
   ]
  },
  {
   "cell_type": "raw",
   "id": "222e4baf-d9db-40d0-8bc7-cc16cdfef045",
   "metadata": {},
   "source": [
    "Problem statement\n",
    "Given an array of length N, you need to find and print the sum of all elements of the array.\n",
    "\n",
    "Detailed explanation ( Input/output format, Notes, Images )\n",
    "Input Format :\n",
    "Line 1 : An Integer N i.e. size of array\n",
    "Line 2 : N integers which are elements of the array, separated by spaces\n",
    "Output Format :\n",
    "Sum\n",
    "\n",
    "Sample Input :\n",
    "3\n",
    "9 8 9\n",
    "Sample Output :\n",
    "26"
   ]
  },
  {
   "cell_type": "code",
   "execution_count": null,
   "id": "19551e53-19f3-4bc1-b9fb-2597d8fdaeb2",
   "metadata": {},
   "outputs": [],
   "source": [
    "sum = 0\n",
    "n = int(input())\n",
    "li = [int(x) for x in input().split()]\n",
    "for i in range(n):\n",
    "    sum = sum + li[i]\n",
    "print(sum)\n",
    "\n"
   ]
  },
  {
   "cell_type": "code",
   "execution_count": null,
   "id": "0058b163-ddd4-4909-aa51-08ffd27124b0",
   "metadata": {},
   "outputs": [],
   "source": [
    "sum2 = 0\n",
    "li = [int(x) for x in input().split()]\n",
    "for i in range(len(li)):\n",
    "    sum2 = sum2 + li[i]\n",
    "print(sum2)"
   ]
  },
  {
   "cell_type": "code",
   "execution_count": 12,
   "id": "c3c9b25e-c2b8-4f74-8245-e9a7651b0fee",
   "metadata": {},
   "outputs": [
    {
     "name": "stdin",
     "output_type": "stream",
     "text": [
      " 5\n",
      " 1\n",
      " 2\n",
      " 3\n",
      " 4\n",
      " 5\n"
     ]
    }
   ],
   "source": [
    "n = int(input())\n",
    "li = []\n",
    "for i in range(n):\n",
    "    current_element = int(input())\n",
    "    li.append(current_element)"
   ]
  },
  {
   "cell_type": "code",
   "execution_count": 13,
   "id": "586a1162-3d13-4f0e-afcf-7af841c67eed",
   "metadata": {},
   "outputs": [
    {
     "name": "stdout",
     "output_type": "stream",
     "text": [
      "1\n",
      "2\n",
      "3\n",
      "4\n",
      "5\n"
     ]
    }
   ],
   "source": [
    "for ele in li:\n",
    "    print(ele)"
   ]
  },
  {
   "cell_type": "code",
   "execution_count": 14,
   "id": "be4c75c3-bd83-4766-9597-566fa98b2e0f",
   "metadata": {},
   "outputs": [
    {
     "name": "stdout",
     "output_type": "stream",
     "text": [
      "1\n",
      "2\n",
      "3\n",
      "4\n",
      "5\n"
     ]
    }
   ],
   "source": [
    "for i in range(n):\n",
    "    print(li[i])"
   ]
  },
  {
   "cell_type": "code",
   "execution_count": 15,
   "id": "fb3812fc-4976-45df-a61f-dc14517c896a",
   "metadata": {},
   "outputs": [
    {
     "name": "stdout",
     "output_type": "stream",
     "text": [
      "[1, 2, 3, 4, 5]\n"
     ]
    }
   ],
   "source": [
    "print(li)"
   ]
  },
  {
   "cell_type": "markdown",
   "id": "5e69fdff-cb3d-4c4b-bf00-5f933794b861",
   "metadata": {},
   "source": [
    "# Swap Alternate"
   ]
  },
  {
   "cell_type": "raw",
   "id": "ec8a8344-6e1b-4327-8c92-2f56f90653bc",
   "metadata": {},
   "source": [
    "Problem statement\n",
    "You have been given an array/list(ARR) of size N. You need to swap every pair of alternate elements in the array/list.\n",
    "\n",
    "You don't need to print or return anything, just change in the input array itself.\n",
    "\n",
    "Detailed explanation ( Input/output format, Notes, Images )\n",
    "Input Format :\n",
    "The first line contains an Integer 't' which denotes the number of test cases or queries to be run. Then the test cases follow.\n",
    "\n",
    "First line of each test case or query contains an integer 'N' representing the size of the array/list.\n",
    "\n",
    "Second line contains 'N' single space separated integers representing the elements in the array/list.\n",
    "Output Format :\n",
    "For each test case, print the elements of the resulting array in a single row separated by a single space.\n",
    "\n",
    "Output for every test case will be printed in a separate line.\n",
    "\n",
    "Sample Input 1:\n",
    "1\n",
    "6\n",
    "9 3 6 12 4 32\n",
    "Sample Output 1 :\n",
    "3 9 12 6 32 4\n",
    "\n",
    "Sample Input 2:\n",
    "2\n",
    "9\n",
    "9 3 6 12 4 32 5 11 19\n",
    "4\n",
    "1 2 3 4\n",
    "Sample Output 2 :\n",
    "3 9 12 6 32 4 11 5 19 \n",
    "2 1 4 3 "
   ]
  },
  {
   "cell_type": "code",
   "execution_count": 17,
   "id": "62f3dc37-71ae-4beb-8f48-8634cdac13d8",
   "metadata": {},
   "outputs": [
    {
     "name": "stdin",
     "output_type": "stream",
     "text": [
      " 5\n",
      " 1 2 3 4 5\n"
     ]
    },
    {
     "name": "stdout",
     "output_type": "stream",
     "text": [
      "[2, 1, 4, 3, 5]\n"
     ]
    }
   ],
   "source": [
    "n = int(input())\n",
    "li = [int(x) for x in input().split()]\n",
    "for i in range(0, len(li)-1, 2):\n",
    "    li[i], li[i+1] = li[i + 1], li[i]\n",
    "    \n",
    "print(li)"
   ]
  },
  {
   "cell_type": "code",
   "execution_count": 21,
   "id": "10a1e66b-4125-46f9-ae3c-3ee495c00efd",
   "metadata": {},
   "outputs": [
    {
     "name": "stdin",
     "output_type": "stream",
     "text": [
      " 6\n",
      " 1 2 3 4 5 6\n"
     ]
    },
    {
     "name": "stdout",
     "output_type": "stream",
     "text": [
      "[2, 1, 4, 3, 6, 5]\n"
     ]
    }
   ],
   "source": [
    "def SwapAlternate(li, n):\n",
    "    for i in range(0, len(li)-1, 2):\n",
    "        li[i], li[i+1] = li[i + 1], li[i]\n",
    "n = int(input())\n",
    "li = [int(x) for x in input().split()]\n",
    "SwapAlternate(li, n)\n",
    "print(li)"
   ]
  },
  {
   "cell_type": "code",
   "execution_count": 22,
   "id": "c374ba55-d6a1-4b6b-a321-620db243edfd",
   "metadata": {},
   "outputs": [
    {
     "name": "stdin",
     "output_type": "stream",
     "text": [
      " 6\n",
      " 1 2 3 4 5 6\n"
     ]
    },
    {
     "name": "stdout",
     "output_type": "stream",
     "text": [
      "[2, 1, 3, 4, 5, 6]\n"
     ]
    }
   ],
   "source": [
    "def SwapAlternate(li, n):\n",
    "    for i in range(0, len(li)-1, 2):\n",
    "        li[i], li[i+1] = li[i + 1], li[i]\n",
    "        return li\n",
    "n = int(input())\n",
    "li = [int(x) for x in input().split()]\n",
    "li = SwapAlternate(li, n)\n",
    "print(li)\n"
   ]
  },
  {
   "cell_type": "raw",
   "id": "6cb73a97-4a42-45c8-887b-ad40c1842833",
   "metadata": {},
   "source": [
    "This is useful if you want to use the modified list further without changing the original list directly.\n",
    "\n"
   ]
  },
  {
   "cell_type": "markdown",
   "id": "b914f7fa-050a-4e76-8fc4-b02c12892d1d",
   "metadata": {},
   "source": [
    "# Reverse  A List "
   ]
  },
  {
   "cell_type": "raw",
   "id": "3ce54ac1-f06f-4a59-8830-5a1f580c01b6",
   "metadata": {},
   "source": [
    "Write a function reverseList that takes a list of integers as input and returns a new list with the elements in reverse order. Do not use any built-in reverse functions or slicing. Instead, implement the logic manually."
   ]
  },
  {
   "cell_type": "code",
   "execution_count": 24,
   "id": "93af2c7f-0187-4ec1-8ccf-ca2771d58381",
   "metadata": {},
   "outputs": [
    {
     "name": "stdout",
     "output_type": "stream",
     "text": [
      "[6, 5, 4, 3, 2, 1]\n"
     ]
    }
   ],
   "source": [
    "def reverse(arr):\n",
    "    length = len(arr)\n",
    "    for i in range(length //2):\n",
    "        arr[i], arr[length - i - 1] = arr[length - i - 1], arr[i]\n",
    "li = [1,2,3,4,5,6]\n",
    "reverse(li)\n",
    "print(li)"
   ]
  },
  {
   "cell_type": "code",
   "execution_count": 28,
   "id": "3faeae6e-54b8-49c3-9533-b61599ef458e",
   "metadata": {},
   "outputs": [
    {
     "name": "stdin",
     "output_type": "stream",
     "text": [
      "Enter the number of elements:  2\n",
      "Enter the elements:  1 2 3 4 5 6\n"
     ]
    },
    {
     "name": "stdout",
     "output_type": "stream",
     "text": [
      "Reversed list: [6, 5, 4, 3, 2, 1]\n"
     ]
    }
   ],
   "source": [
    "def reverseList(li):\n",
    "    start = 0\n",
    "    end = len(li) - 1\n",
    "    while start < end:\n",
    "        li[start], li[end] = li[end], li[start]\n",
    "        start = start + 1\n",
    "        end = end - 1\n",
    "    return li\n",
    "\n",
    "# Read input\n",
    "n = int(input(\"Enter the number of elements: \"))\n",
    "li = [int(x) for x in input(\"Enter the elements: \").split()]\n",
    "\n",
    "# Call the function and print the result\n",
    "reversed_list = reverseList(li)\n",
    "print(\"Reversed list:\", reversed_list)\n"
   ]
  },
  {
   "cell_type": "markdown",
   "id": "e0b6733e-56b2-4dff-99c2-72067430e773",
   "metadata": {},
   "source": [
    "# Linear Search"
   ]
  },
  {
   "cell_type": "raw",
   "id": "5db898e9-6eda-40af-a289-b6d7e94e4bb8",
   "metadata": {},
   "source": [
    "Given a list, search for the element of the list, if not found then return - 1/ \"List not found\""
   ]
  },
  {
   "cell_type": "code",
   "execution_count": 33,
   "id": "5a5b115b-324e-484a-90b7-541d9b8b247a",
   "metadata": {},
   "outputs": [
    {
     "name": "stdin",
     "output_type": "stream",
     "text": [
      " 1 2 3 4 5 6\n",
      " 5\n"
     ]
    },
    {
     "name": "stdout",
     "output_type": "stream",
     "text": [
      "[4] 4\n"
     ]
    }
   ],
   "source": [
    "li = [int(x) for x in input().split()]\n",
    "target_element = int(input())\n",
    "is_found = False\n",
    "for i in range(len(li)):\n",
    "    if li[i] == target_element:\n",
    "        print([i], i)\n",
    "        is_found = True\n",
    "if is_found is False:\n",
    "    print(-1)"
   ]
  },
  {
   "cell_type": "markdown",
   "id": "1269c450-1e8e-448b-9097-3efb4a5327c7",
   "metadata": {},
   "source": [
    "# Linear Search Through Function"
   ]
  },
  {
   "cell_type": "code",
   "execution_count": 39,
   "id": "d8dca56d-e59b-4547-b0f6-9b16d78a81be",
   "metadata": {},
   "outputs": [
    {
     "name": "stdout",
     "output_type": "stream",
     "text": [
      "2\n"
     ]
    }
   ],
   "source": [
    "def linear_search(arr, ele):\n",
    "    is_found = False\n",
    "    for i in range(len(li)):\n",
    "        if arr[i] == ele:\n",
    "            return i\n",
    "    return - 1\n",
    "li = [1,2,3,4,5,6]\n",
    "index = linear_search(li, 3)\n",
    "print(index)"
   ]
  },
  {
   "cell_type": "markdown",
   "id": "74e42fbe-1f21-4d28-bfad-ab78315f4c8e",
   "metadata": {},
   "source": [
    "# Find Unique"
   ]
  },
  {
   "cell_type": "raw",
   "id": "b81b86fd-82d2-46d1-b1e0-d5b23d59e661",
   "metadata": {},
   "source": [
    "Problem statement\n",
    "You have been given an integer array/list(ARR) of size N. Where N is equal to [2M + 1].\n",
    "\n",
    "Now, in the given array/list, 'M' numbers are present twice and one number is present only once.\n",
    "\n",
    "You need to find and return that number which is unique in the array/list.\n",
    "\n",
    " Note:\n",
    "Unique element is always present in the array/list according to the given condition.\n",
    "Detailed explanation ( Input/output format, Notes, Images )\n",
    "Constraints :\n",
    "1 <= t <= 10^2\n",
    "0 <= N <= 10^3\n",
    "Time Limit: 1 sec\n",
    "\n",
    "Sample Input 1:\n",
    "1\n",
    "7\n",
    "2 3 1 6 3 6 2\n",
    "Sample Output 1:\n",
    "1\n",
    "Explanation: The array is [2, 3, 1, 6, 3, 6, 2]. Here, the numbers 2, 3, and 6 are present twice, and the number 1 is present only once. So, the unique number in this array is 1.\n",
    "\n",
    "Sample Input 2:\n",
    "2\n",
    "5\n",
    "2 4 7 2 7\n",
    "9\n",
    "1 3 1 3 6 6 7 10 7\n",
    "Sample Output 2:\n",
    "4\n",
    "Explanation: In the first test case, the array is [2, 4, 7, 2, 7]. Here, the numbers 2 and 7 are present twice, and the number 4 is present only once. So, the unique number in this array is 4.\n",
    "\n",
    "10\n",
    "Explanation: In the second test case, the array is [1, 3, 1, 3, 6, 6, 7, 10, 7]. Here, the numbers 1, 3, 6, and 7 are present twice, and the number 10 is present only once. So, the unique number in this array is 10.\n",
    "\n",
    "\n"
   ]
  },
  {
   "cell_type": "code",
   "execution_count": 53,
   "id": "ed3fb96a-2a75-4b67-990c-b504ca7458e4",
   "metadata": {},
   "outputs": [
    {
     "name": "stdin",
     "output_type": "stream",
     "text": [
      " 3 1 2 3 4 2\n"
     ]
    },
    {
     "name": "stdout",
     "output_type": "stream",
     "text": [
      "1\n"
     ]
    }
   ],
   "source": [
    "li = [int(x) for x in input().split()]\n",
    "\n",
    "for i in range(len(li)):\n",
    "    is_unique = True\n",
    "    for j in range(len(li)):\n",
    "        if i != j and li[i] == li[j]:\n",
    "            is_unique = False\n",
    "            break\n",
    "            # If the element is unique, print it and break out of the loop\n",
    "    if is_unique: \n",
    "        break\n",
    "if is_unique:\n",
    "    print(li[i])\n",
    "else:\n",
    "    print(\"Not found\")\n"
   ]
  },
  {
   "cell_type": "raw",
   "id": "b562937a-f28d-44e5-b788-2e2e6f400567",
   "metadata": {},
   "source": [
    "\n",
    "\n",
    "1. **Initial Setup:**\n",
    "   - Input list: `[3, 1, 2, 3, 4, 2]`\n",
    "   - `li = [3, 1, 2, 3, 4, 2]`\n",
    "\n",
    "2. **Outer Loop (`for i in range(len(li))`):**\n",
    "\n",
    "   - **Iteration 1 (`i = 0`)**:\n",
    "     - Current element: `li[0] = 3`\n",
    "     - Inner loop compares `li[0]` (3) with all other elements:\n",
    "       - `li[0] == li[0]` (comparison with itself, skipped)\n",
    "       - `li[0] != li[1]` (3 != 1, no match)\n",
    "       - `li[0] != li[2]` (3 != 2, no match)\n",
    "       - `li[0] == li[3]` (3 == 3, match found with `li[3]`)\n",
    "     - `is_unique` is set to `False`, breaks out of the inner loop.\n",
    "\n",
    "   - **Iteration 2 (`i = 1`)**:\n",
    "     - Current element: `li[1] = 1`\n",
    "     - Inner loop compares `li[1]` (1) with all other elements:\n",
    "       - `li[1] == li[0]` (1 != 3, no match)\n",
    "       - `li[1] != li[1]` (comparison with itself, skipped)\n",
    "       - `li[1] != li[2]` (1 != 2, no match)\n",
    "       - `li[1] != li[3]` (1 == 3, match found with `li[3]`)\n",
    "       - `li[1] != li[4]` (1 != 4, no match)\n",
    "       - `li[1] != li[5]` (1 == 2, match found with `li[5]`)\n",
    "     - `is_unique` is set to `True`, breaks out of the outer loop.\n",
    "\n",
    "3. **Result:**\n",
    "   - Since `is_unique` is `True` after the second iteration, the code prints `li[1]`, which is `1`.\n",
    "\n",
    "### Visualization of Variables:\n",
    "\n",
    "- **Before Execution:**\n",
    "  - `li = [3, 1, 2, 3, 4, 2]`\n",
    "  - `is_unique = True`\n",
    "\n",
    "- **During Execution (Iteration 1):**\n",
    "  - `i = 0`\n",
    "  - `li[i] = 3`\n",
    "  - Inner loop comparisons:\n",
    "    - `j = 0`: `li[0] == li[0]` (skipped)\n",
    "    - `j = 1`: `li[0] != li[1]` (3 != 1)\n",
    "    - `j = 2`: `li[0] != li[2]` (3 != 2)\n",
    "    - `j = 3`: `li[0] == li[3]` (3 == 3, duplicate found with `li[3]`)\n",
    "  - `is_unique = False` (duplicate found for `li[0]`)\n",
    "\n",
    "- **During Execution (Iteration 2):**\n",
    "  - `i = 1`\n",
    "  - `li[i] = 1`\n",
    "  - Inner loop comparisons:\n",
    "    - `j = 0`: `li[1] != li[0]` (1 != 3)\n",
    "    - `j = 1`: `li[1] == li[1]` (skipped)\n",
    "    - `j = 2`: `li[1] != li[2]` (1 != 2)\n",
    "    - `j = 3`: `li[1] == li[3]` (1 == 3, duplicate found with `li[3]`)\n",
    "    - `j = 4`: `li[1] != li[4]` (1 != 4)\n",
    "    - `j = 5`: `li[1] != li[5]` (1 == 2, duplicate found with `li[5]`)\n",
    "  - `is_unique = True` (no duplicates found for `li[1]`)\n",
    "\n",
    "- **After Execution:**\n",
    "  - `li = [3, 1, 2, 3, 4, 2]`\n",
    "  - `is_unique = True`\n",
    "  - Output: Prints `1` (first unique element found).\n",
    "\n",
    "Summary\n",
    "\n",
    "- In this corrected visualization, the code correctly identifies `1` as the first unique element in the list `[3, 1, 2, 3, 4, 2]`.\n",
    "\n",
    "- It uses nested loops to compare each element with every other element in the list to determine uniqueness.\n",
    "- The use of `is_unique` flag helps to break out of the loops as soon as a unique element is identified, optimizing the search process.\n",
    "\n",
    "This step-by-step visualization clarifies how the code operates and verifies that `1` is indeed the first unique element in the provided list."
   ]
  },
  {
   "cell_type": "markdown",
   "id": "304bcc06-328b-44d8-961f-ff8ac3732e3a",
   "metadata": {},
   "source": [
    "# Find Duplicate"
   ]
  },
  {
   "cell_type": "raw",
   "id": "ee9de614-c9e9-42b3-a889-fbafae32f1bf",
   "metadata": {},
   "source": [
    "Problem statement\n",
    "You have been given an integer array/list(ARR) of size N which contains numbers from 0 to (N - 2). Each number is present at least once. That is, if N = 5, the array/list constitutes values ranging from 0 to 3 and among these, there is a single integer value that is present twice. You need to find and return that duplicate number present in the array.\n",
    "\n",
    "Note :\n",
    "Duplicate number is always present in the given array/list.\n",
    "Detailed explanation ( Input/output format, Notes, Images )\n",
    "Constraints :\n",
    "1 <= t <= 10^2\n",
    "0 <= N <= 10^3\n",
    "Time Limit: 1 sec\n",
    "Sample Input 1:\n",
    "1\n",
    "9\n",
    "0 7 2 5 4 7 1 3 6\n",
    "Sample Output 1:\n",
    "7\n",
    "\n",
    "Sample Input 2:\n",
    "2\n",
    "5\n",
    "0 2 1 3 1\n",
    "7\n",
    "0 3 1 5 4 3 2\n",
    "Sample Output 2:\n",
    "1\n",
    "3"
   ]
  },
  {
   "cell_type": "code",
   "execution_count": 57,
   "id": "2f8f6cac-609e-4f93-b7f6-633e66159bc8",
   "metadata": {},
   "outputs": [
    {
     "name": "stdin",
     "output_type": "stream",
     "text": [
      " 2 3 4 2\n"
     ]
    },
    {
     "name": "stdout",
     "output_type": "stream",
     "text": [
      "2\n"
     ]
    }
   ],
   "source": [
    "li = [int(x) for x in input().split()]\n",
    "is_duplicate = False\n",
    "for i in range(len(li)):\n",
    "    is_duplicate = False\n",
    "    for j in range(i+1, len(li)):\n",
    "        if li[i] == li[j] :\n",
    "            is_duplicate = True\n",
    "            break\n",
    "    if is_duplicate:\n",
    "        break\n",
    "        \n",
    "if is_duplicate:\n",
    "    print(li[i])\n",
    "else:\n",
    "    print(\"not found\")\n",
    "        "
   ]
  },
  {
   "cell_type": "raw",
   "id": "7b88cce5-6498-47a1-b431-1b13848fab95",
   "metadata": {},
   "source": [
    "\n",
    "\n",
    "li = [int(x) for x in input().split()]: Reads input from the user and stores it in a list li after converting each element to an integer.\n",
    "Outer Loop (for i in range(len(li))):\n",
    "\n",
    "Iterates through each element in the list li.\n",
    "Inner Loop (for j in range(i + 1, len(li))):\n",
    "\n",
    "Starts from i + 1 to avoid comparing the element with itself (li[i] == li[j] and i != j).\n",
    "Duplicate Check:\n",
    "\n",
    "If li[i] is equal to li[j] for any j > i, it means li[i] has a duplicate in the list.\n",
    "Sets is_duplicate to True and breaks out of the outer loop if a duplicate is found.\n",
    "Output:\n",
    "\n",
    "If is_duplicate is True, prints the first duplicate element found (li[i]).\n",
    "If no duplicates are found after checking all pairs, prints \"not found\".\n",
    "Example:\n",
    "For an input like 3 1 2 3 4 2, the corrected code will correctly identify the first duplicate (3 in this case) and print it.\n",
    "\n",
    "This corrected approach ensures that the code accurately detects duplicates in the list and handles the output accordingly."
   ]
  },
  {
   "cell_type": "markdown",
   "id": "86264cc9-97be-4f2d-a63f-cedeca8f36ad",
   "metadata": {},
   "source": [
    "# Intersection Of Two arrays"
   ]
  },
  {
   "cell_type": "raw",
   "id": "760c684d-fe78-4014-9040-db6b553b91d0",
   "metadata": {},
   "source": [
    "Problem statement\n",
    "You have been given two integer arrays/list(ARR1 and ARR2) of size N and M, respectively. You need to print their intersection; An intersection for this problem can be defined when both the arrays/lists contain a particular value or to put it in other words, when there is a common value that exists in both the arrays/lists.\n",
    "\n",
    "Note :\n",
    "Input arrays/lists can contain duplicate elements.\n",
    "\n",
    "The intersection elements printed would be in the order they appear in the first array/list(ARR1)\n",
    "\n",
    "\n",
    "Detailed explanation ( Input/output format, Notes, Images )\n",
    "Constraints :\n",
    "1 <= t <= 10^2\n",
    "0 <= N <= 10^3\n",
    "0 <= M <= 10^3\n",
    "Time Limit: 1 sec \n"
   ]
  },
  {
   "cell_type": "code",
   "execution_count": 9,
   "id": "221a2efc-e51f-4799-8120-91888be01e23",
   "metadata": {},
   "outputs": [
    {
     "name": "stdin",
     "output_type": "stream",
     "text": [
      " 2 6 8 5 4 3\n",
      " 2 3 4 7\n"
     ]
    },
    {
     "name": "stdout",
     "output_type": "stream",
     "text": [
      "[2, 4, 3]\n"
     ]
    }
   ],
   "source": [
    "arr1 = [int(x) for x in input().split()]\n",
    "arr2 = [int(x) for x in input().split()]\n",
    "\n",
    "arr3 = [] # I have initialised arr3 as container so that when I found en elements which is an interesection, then I can Append it\n",
    "is_intersection = False\n",
    "for i in range(len(arr1)):\n",
    "    for j in range(len(arr2)):\n",
    "        if arr1[i] == arr2[j]:\n",
    "            arr3.append(arr1[i])\n",
    "            is_intersection = True\n",
    "            break\n",
    "if is_intersection:\n",
    "    print(arr3)\n",
    "else:\n",
    "    print(\"not found\")"
   ]
  },
  {
   "cell_type": "code",
   "execution_count": 11,
   "id": "e77d5298-4f6c-4d9f-b06d-bc9655d131eb",
   "metadata": {},
   "outputs": [
    {
     "name": "stdin",
     "output_type": "stream",
     "text": [
      " 2 6 8 5 4 3\n",
      " 2 3 4 7\n"
     ]
    },
    {
     "name": "stdout",
     "output_type": "stream",
     "text": [
      "[2, 4, 3]\n"
     ]
    }
   ],
   "source": [
    "def is_intersection(arr1, arr2):\n",
    "    arr3 = []\n",
    "    is_intersection = False\n",
    "    for i in range(len(arr1)):\n",
    "        for j in range(len(arr2)):\n",
    "            if arr1[i] == arr2[j]:\n",
    "                arr3.append(arr1[i])\n",
    "                is_intersection = True\n",
    "                break\n",
    "    return arr3\n",
    "a = [int(x) for x in input().split()]\n",
    "b = [int(x) for x in input().split()]\n",
    "result = is_intersection(arr1, arr2)\n",
    "print(result)"
   ]
  },
  {
   "cell_type": "code",
   "execution_count": 16,
   "id": "20ffbfc6-2823-46e6-9553-9afe6c3f84c3",
   "metadata": {},
   "outputs": [],
   "source": [
    "import sys\n",
    "\n",
    "def intersections(arr1, n, arr2, m) :\n",
    "    #Your code goes here\n",
    "    for i in range(n):\n",
    "        for j in range(m):\n",
    "            if arr1[i]==arr2[j]:\n",
    "                print(arr1[i],end=\" \")\n",
    "                arr2[j]=-1\n",
    "                break\n",
    "\n",
    "    return -1\n",
    "\n",
    "\n"
   ]
  },
  {
   "cell_type": "markdown",
   "id": "eca8de0c-74a4-4c10-935c-ccec7eeface1",
   "metadata": {},
   "source": [
    "# Pair Sum"
   ]
  },
  {
   "cell_type": "raw",
   "id": "4d2aa1d8-b208-443a-8d13-45a043946f88",
   "metadata": {},
   "source": [
    "Problem statement\n",
    "You have been given an integer array/list(ARR) and a number X. Find and return the total number of pairs in the array/list which sum to X.\n",
    "\n",
    "Note:\n",
    "Given array/list can contain duplicate elements. \n",
    "Detailed explanation ( Input/output format, Notes, Images )\n",
    "Constraints :\n",
    "1 <= t <= 10^2\n",
    "0 <= N <= 10^3\n",
    "0 <= X <= 10^9\n",
    "Time Limit: 1 sec\n",
    "\n",
    "Sample Input 1:\n",
    "1\n",
    "9\n",
    "1 3 6 2 5 4 3 2 4\n",
    "7\n",
    "Sample Output 1:\n",
    "7\n",
    "Sample Input 2:\n",
    "2\n",
    "9\n",
    "1 3 6 2 5 4 3 2 4\n",
    "12\n",
    "6\n",
    "2 8 10 5 -2 5\n",
    "10\n",
    "Sample Output 2:\n",
    "0\n",
    "2\n",
    "\n",
    "\n",
    " Explanation for Input 2:\n",
    "Since there doesn't exist any pair with sum equal to 12 for the first query, we print 0.\n",
    "\n",
    "For the second query, we have 2 pairs in total that sum up to 10. They are, (2, 8) and (5, 5).\n",
    "\n",
    "\n"
   ]
  },
  {
   "cell_type": "code",
   "execution_count": null,
   "id": "351eae64-e27f-436b-b8b1-a6fdccd2e2a8",
   "metadata": {},
   "outputs": [],
   "source": [
    "arr = [int(x) for x in input().split()]\n",
    "number_sum = int(input())\n",
    "number_of_pairs = 0\n",
    "for i in range(len(arr)):\n",
    "    for j in range(i + 1, len(arr)):\n",
    "        if arr[i] + arr[j] == number_sum:\n",
    "            number_of_pairs = number_of_pairs + 1\n",
    "            #break\n",
    "print(number_of_pairs)\n",
    "            "
   ]
  },
  {
   "cell_type": "code",
   "execution_count": null,
   "id": "a0861158-1bcd-4e4a-9cb4-f98e41192d50",
   "metadata": {},
   "outputs": [],
   "source": [
    "def pair_sum(arr, x):\n",
    "    number_of_pairs = 0\n",
    "    for i in range(len(arr)):\n",
    "        for j in range(i + 1, len(arr)):\n",
    "            if arr[i] + arr[j] == x:\n",
    "                number_of_pairs = number_of_pairs + 1\n",
    "    return number_of_pairs\n",
    "arr1 = [int(x) for x in input().split()]\n",
    "result = pair_sum(arr, 7)\n",
    "print(result)\n",
    "                "
   ]
  },
  {
   "cell_type": "markdown",
   "id": "cc98ec06-a9d8-4431-96aa-7f59d8efc624",
   "metadata": {},
   "source": [
    "# Triplet Sum"
   ]
  },
  {
   "cell_type": "raw",
   "id": "308c561f-0c80-44ae-a2e4-42eea167ea0b",
   "metadata": {},
   "source": [
    "Problem statement\n",
    "You have been given a random integer array/list(ARR) and a number X. Find and return the number of triplets in the array/list which sum to X.\n",
    "\n",
    "Note :\n",
    "Given array/list can contain duplicate elements.\n",
    "Detailed explanation ( Input/output format, Notes, Images )\n",
    "Constraints :\n",
    "1 <= t <= 50\n",
    "0 <= N <= 10^2\n",
    "0 <= X <= 10^9\n",
    "Time Limit: 1 sec\n",
    "Sample Input 1:\n",
    "1\n",
    "7\n",
    "1 2 3 4 5 6 7 \n",
    "12\n",
    "Sample Output 1:\n",
    "5\n",
    "Sample Input 2:\n",
    "2\n",
    "7\n",
    "1 2 3 4 5 6 7 \n",
    "19\n",
    "9\n",
    "2 -5 8 -6 0 5 10 11 -3\n",
    "10\n",
    "Sample Output 2:\n",
    "0\n",
    "5\n",
    "\n",
    "\n",
    " Explanation for Input 2:\n",
    "Since there doesn't exist any triplet with sum equal to 19 for the first query, we print 0.\n",
    "\n",
    "For the second query, we have 5 triplets in total that sum up to 10. They are, (2, 8, 0), (2, 11, -3), (-5, 5, 10), (8, 5, -3) and (-6, 5, 11)\n"
   ]
  },
  {
   "cell_type": "code",
   "execution_count": 2,
   "id": "4e784cbf-02c0-4e34-a37c-f10e9d85dd7d",
   "metadata": {},
   "outputs": [
    {
     "name": "stdin",
     "output_type": "stream",
     "text": [
      " 1 2 3 4 5 6 7\n",
      " 12\n"
     ]
    },
    {
     "name": "stdout",
     "output_type": "stream",
     "text": [
      "5\n"
     ]
    }
   ],
   "source": [
    "arr = [int(x)for x in input().split()]\n",
    "number_to_be_sum = int(input())\n",
    "number_of_pairs = 0\n",
    "for i in range(len(arr)):\n",
    "    for j in range(i + 1, len(arr)):\n",
    "        for k in range(j + 1, len(arr)):\n",
    "            if arr[i] + arr[j] + arr[k] == number_to_be_sum:\n",
    "                number_of_pairs = number_of_pairs + 1\n",
    "print(number_of_pairs)\n",
    "                "
   ]
  },
  {
   "cell_type": "code",
   "execution_count": null,
   "id": "12831379-e91d-4ed4-916f-e5718e0ad6ae",
   "metadata": {},
   "outputs": [],
   "source": [
    "def find_triplet(arr, n, x):\n",
    "    number_of_pairs = 0\n",
    "    for i in range(len(arr)):\n",
    "        for j in range(i + 1, len(arr)):\n",
    "            for k in range(j + 1, len(arr)):\n",
    "                if arr[i] + arr[j] + arr[k] == x:\n",
    "                    number_of_pairs = number_of_pairs + 1\n",
    "    return number_of_pairs\n"
   ]
  },
  {
   "cell_type": "markdown",
   "id": "1772d0cb-3968-4f05-a896-89bc929e4aa0",
   "metadata": {},
   "source": [
    "# Sort 0 And 1"
   ]
  },
  {
   "cell_type": "raw",
   "id": "07a797db-1688-4e5a-a530-64458e057572",
   "metadata": {},
   "source": [
    "Problem statement\n",
    "You have been given an integer array/list(ARR) of size N that contains only integers, 0 and 1. Write a function to sort this array/list. Think of a solution which scans the array/list only once and don't require use of an extra array/list.\n",
    "\n",
    "Note:\n",
    "You need to change in the given array/list itself. Hence, no need to return or print anything. \n",
    "Detailed explanation ( Input/output format, Notes, Images )\n",
    "Constraints :\n",
    "1 <= t <= 10^2\n",
    "0 <= N <= 10^5\n",
    "Time Limit: 1 sec\n",
    "Sample Input 1:\n",
    "1\n",
    "7\n",
    "0 1 1 0 1 0 1\n",
    "Sample Output 1:\n",
    "0 0 0 1 1 1 1\n",
    "Sample Input 2:\n",
    "2\n",
    "8\n",
    "1 0 1 1 0 1 0 1\n",
    "5\n",
    "0 1 0 1 0\n",
    "Sample Output 2:\n",
    "0 0 0 1 1 1 1 1\n",
    "0 0 0 1 1 \n"
   ]
  },
  {
   "cell_type": "code",
   "execution_count": 13,
   "id": "cfbdc0e4-6f4b-46e4-bbcf-4a903a4eeebb",
   "metadata": {},
   "outputs": [
    {
     "name": "stdout",
     "output_type": "stream",
     "text": [
      "[0, 0, 1, 1, 1]\n"
     ]
    }
   ],
   "source": [
    "arr = [0, 1, 1, 0, 1]\n",
    "temp = 0\n",
    "for i in range(len(arr)):\n",
    "    if arr[i] == 0:\n",
    "        arr[i], arr[temp] = arr[temp], arr[i]\n",
    "        temp = temp + 1\n",
    "print(arr)\n",
    "        \n",
    "        "
   ]
  },
  {
   "cell_type": "code",
   "execution_count": null,
   "id": "71539544-5318-4d5c-94fb-b263ab411a34",
   "metadata": {},
   "outputs": [],
   "source": [
    "def sort(arr, n):\n",
    "    temp = 0\n",
    "    for i in range(len(arr)):\n",
    "        if arr[i] == 0:\n",
    "            arr[i], arr[temp] = arr[temp], arr[i]\n",
    "            temp = temp + 1\n",
    "    return arr"
   ]
  },
  {
   "cell_type": "markdown",
   "id": "0756423d-bdf5-48fb-bfe8-b506168e7e81",
   "metadata": {},
   "source": [
    "# Push Zeros To End"
   ]
  },
  {
   "cell_type": "raw",
   "id": "8656783f-01fb-4b4e-a1a8-4d41e4cbde36",
   "metadata": {},
   "source": [
    "Problem statement\n",
    "You have been given a random integer array/list(ARR) of size N. You have been required to push all the zeros that are present in the array/list to the end of it. Also, make sure to maintain the relative order of the non-zero elements.\n",
    "\n",
    "Note:\n",
    "Change in the input array/list itself. You don't need to return or print the elements.\n",
    "\n",
    "You need to do this in one scan of array only. Don't use extra space.\n",
    "\n",
    "Sample Input 1:\n",
    "1\n",
    "7\n",
    "2 0 0 1 3 0 0\n",
    "Sample Output 1:\n",
    "2 1 3 0 0 0 0\n",
    " Explanation for the Sample Input 1 :\n",
    "All the zeros have been pushed towards the end of the array/list. Another important fact is that the order of the non-zero elements have been maintained as they appear in the input array/list.\n",
    "Sample Input 2:\n",
    "2\n",
    "5\n",
    "0 3 0 2 0\n",
    "5\n",
    "9 0 0 8 2\n",
    "Sample Output 2:\n",
    "3 2 0 0 0\n",
    "9 8 2 0 0 "
   ]
  },
  {
   "cell_type": "code",
   "execution_count": null,
   "id": "65edc9b7-3016-4bac-b434-00d709b1bd4a",
   "metadata": {},
   "outputs": [],
   "source": [
    "arr = [int(x) for x in input().split()]\n",
    "non_zero = 0\n",
    "for i in range(len(arr)):\n",
    "    if arr[i] != 0:\n",
    "        arr[i], arr[non_zero] = arr[non_zero], arr[i]\n",
    "        non_zero = non_zero + 1\n",
    "print(arr)"
   ]
  },
  {
   "cell_type": "code",
   "execution_count": 5,
   "id": "da15a875-fe25-466b-b9c1-04cdf116f070",
   "metadata": {},
   "outputs": [
    {
     "name": "stdin",
     "output_type": "stream",
     "text": [
      " 2 0 0 1 3 0 0\n"
     ]
    },
    {
     "name": "stdout",
     "output_type": "stream",
     "text": [
      "[2, 1, 3, 0, 0, 0, 0]\n"
     ]
    }
   ],
   "source": [
    "def pushZerosAtEnd(arr) :\n",
    "    non_zero = 0\n",
    "    for i in range(len(arr)):\n",
    "        if arr[i] != 0:\n",
    "            arr[i], arr[non_zero] = arr[non_zero], arr[i]\n",
    "            non_zero = non_zero + 1\n",
    "    return arr\n",
    "\n",
    "\n",
    "li = [int(x) for x in input().split()]\n",
    "result = pushZerosAtEnd(li)\n",
    "print(result)"
   ]
  },
  {
   "cell_type": "code",
   "execution_count": null,
   "id": "a50a3593-f45c-42e7-9d39-63969226409c",
   "metadata": {},
   "outputs": [],
   "source": []
  }
 ],
 "metadata": {
  "kernelspec": {
   "display_name": "Python 3 (ipykernel)",
   "language": "python",
   "name": "python3"
  },
  "language_info": {
   "codemirror_mode": {
    "name": "ipython",
    "version": 3
   },
   "file_extension": ".py",
   "mimetype": "text/x-python",
   "name": "python",
   "nbconvert_exporter": "python",
   "pygments_lexer": "ipython3",
   "version": "3.11.5"
  }
 },
 "nbformat": 4,
 "nbformat_minor": 5
}
